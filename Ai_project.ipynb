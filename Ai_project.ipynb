{
  "nbformat": 4,
  "nbformat_minor": 0,
  "metadata": {
    "colab": {
      "provenance": [],
      "gpuType": "T4",
      "authorship_tag": "ABX9TyP4/dZRonsaBdjxZPsEKR7m",
      "include_colab_link": true
    },
    "kernelspec": {
      "name": "python3",
      "display_name": "Python 3"
    },
    "language_info": {
      "name": "python"
    },
    "accelerator": "GPU"
  },
  "cells": [
    {
      "cell_type": "markdown",
      "metadata": {
        "id": "view-in-github",
        "colab_type": "text"
      },
      "source": [
        "<a href=\"https://colab.research.google.com/github/CalebEng/Ai-Project-learning/blob/master/Ai_project.ipynb\" target=\"_parent\"><img src=\"https://colab.research.google.com/assets/colab-badge.svg\" alt=\"Open In Colab\"/></a>"
      ]
    },
    {
      "cell_type": "code",
      "execution_count": 2,
      "metadata": {
        "colab": {
          "base_uri": "https://localhost:8080/"
        },
        "id": "4egB2tLlsSDE",
        "outputId": "d9632f9b-2684-454f-db3e-91c01a743c93"
      },
      "outputs": [
        {
          "output_type": "stream",
          "name": "stdout",
          "text": [
            "Requirement already satisfied: pyyaml in /usr/local/lib/python3.10/dist-packages (6.0.1)\n",
            "Requirement already satisfied: h5py in /usr/local/lib/python3.10/dist-packages (3.8.0)\n",
            "Requirement already satisfied: numpy>=1.14.5 in /usr/local/lib/python3.10/dist-packages (from h5py) (1.23.5)\n",
            "Collecting tiktoken\n",
            "  Downloading tiktoken-0.4.0-cp310-cp310-manylinux_2_17_x86_64.manylinux2014_x86_64.whl (1.7 MB)\n",
            "\u001b[2K     \u001b[90m━━━━━━━━━━━━━━━━━━━━━━━━━━━━━━━━━━━━━━━━\u001b[0m \u001b[32m1.7/1.7 MB\u001b[0m \u001b[31m20.2 MB/s\u001b[0m eta \u001b[36m0:00:00\u001b[0m\n",
            "\u001b[?25hRequirement already satisfied: regex>=2022.1.18 in /usr/local/lib/python3.10/dist-packages (from tiktoken) (2022.10.31)\n",
            "Requirement already satisfied: requests>=2.26.0 in /usr/local/lib/python3.10/dist-packages (from tiktoken) (2.31.0)\n",
            "Requirement already satisfied: charset-normalizer<4,>=2 in /usr/local/lib/python3.10/dist-packages (from requests>=2.26.0->tiktoken) (3.2.0)\n",
            "Requirement already satisfied: idna<4,>=2.5 in /usr/local/lib/python3.10/dist-packages (from requests>=2.26.0->tiktoken) (3.4)\n",
            "Requirement already satisfied: urllib3<3,>=1.21.1 in /usr/local/lib/python3.10/dist-packages (from requests>=2.26.0->tiktoken) (1.26.16)\n",
            "Requirement already satisfied: certifi>=2017.4.17 in /usr/local/lib/python3.10/dist-packages (from requests>=2.26.0->tiktoken) (2023.7.22)\n",
            "Installing collected packages: tiktoken\n",
            "Successfully installed tiktoken-0.4.0\n",
            "Mounted at /content/drive\n"
          ]
        }
      ],
      "source": [
        "#imports\n",
        "import torch\n",
        "import torch.nn as nn\n",
        "from torch.nn import functional as F\n",
        "import tensorflow as tf\n",
        "\n",
        "from tensorflow.keras.preprocessing.sequence import pad_sequences\n",
        "from tensorflow.keras.layers import Embedding, LSTM, Dense, Bidirectional\n",
        "from tensorflow.keras.preprocessing.text import Tokenizer\n",
        "from tensorflow.keras.models import Sequential\n",
        "from tensorflow.keras.optimizers import Adam\n",
        "from tensorflow import keras\n",
        "\n",
        "\n",
        "!pip install pyyaml h5py\n",
        "import numpy as np\n",
        "\n",
        "\n",
        "!pip install --upgrade tiktoken\n",
        "import tiktoken\n",
        "import matplotlib.pyplot as plt\n",
        "import pandas as pd\n",
        "from google.colab import drive\n",
        "drive.mount('/content/drive')\n",
        "import os\n",
        "os.chdir('/content/drive/My Drive/Ai work')\n",
        "#torch.__version__\n",
        "enc = tiktoken.encoding_for_model('gpt-3.5-turbo')"
      ]
    },
    {
      "cell_type": "markdown",
      "source": [
        "\n",
        "------------------- Prep and loading data sets -------------------"
      ],
      "metadata": {
        "id": "o_uZv-_ztqwI"
      }
    },
    {
      "cell_type": "markdown",
      "source": [
        "--ONLY RUN THE NEXT IF CSV FILE CONTAINING CONVOS HAS A INDEX COLUMN--"
      ],
      "metadata": {
        "id": "oNmCxGdbtT3E"
      }
    },
    {
      "cell_type": "code",
      "source": [
        "import pandas as pd\n",
        "df = pd.read_csv('poems.csv')\n",
        "# If you know the name of the column skip this\n",
        "first_column = df.columns[0]\n",
        "sec_col = df.columns[2]\n",
        "trd_col = df.columns[3]\n",
        "four_col = df.columns[4]\n",
        "\n",
        "# Delete first\n",
        "df = df.drop([first_column], axis=1)\n",
        "df = df.drop([sec_col],axis=1)\n",
        "df = df.drop([trd_col],axis = 1)\n",
        "df = df.drop([four_col],axis = 1)\n",
        "\n",
        "\n",
        "df.to_csv('poem.csv',index = False)\n"
      ],
      "metadata": {
        "id": "JRj3gf5atSd9"
      },
      "execution_count": null,
      "outputs": []
    },
    {
      "cell_type": "code",
      "source": [
        "df.to_csv('poems.csv',index=False)"
      ],
      "metadata": {
        "id": "W-NrTONA3WSv",
        "colab": {
          "base_uri": "https://localhost:8080/",
          "height": 175
        },
        "outputId": "ab819763-399f-4c24-8f90-d36d96e63510"
      },
      "execution_count": null,
      "outputs": [
        {
          "output_type": "error",
          "ename": "NameError",
          "evalue": "ignored",
          "traceback": [
            "\u001b[0;31m---------------------------------------------------------------------------\u001b[0m",
            "\u001b[0;31mNameError\u001b[0m                                 Traceback (most recent call last)",
            "\u001b[0;32m<ipython-input-4-e5b5328a89fe>\u001b[0m in \u001b[0;36m<cell line: 1>\u001b[0;34m()\u001b[0m\n\u001b[0;32m----> 1\u001b[0;31m \u001b[0mdf\u001b[0m\u001b[0;34m.\u001b[0m\u001b[0mto_csv\u001b[0m\u001b[0;34m(\u001b[0m\u001b[0;34m'poems.csv'\u001b[0m\u001b[0;34m,\u001b[0m\u001b[0mindex\u001b[0m\u001b[0;34m=\u001b[0m\u001b[0;32mFalse\u001b[0m\u001b[0;34m)\u001b[0m\u001b[0;34m\u001b[0m\u001b[0;34m\u001b[0m\u001b[0m\n\u001b[0m",
            "\u001b[0;31mNameError\u001b[0m: name 'df' is not defined"
          ]
        }
      ]
    },
    {
      "cell_type": "code",
      "source": [
        "df = pd.read_csv('poem.csv')"
      ],
      "metadata": {
        "id": "Qauky9fH7xfZ"
      },
      "execution_count": null,
      "outputs": []
    },
    {
      "cell_type": "code",
      "source": [
        "stdf = df['content'].tolist()\n",
        "print(len(stdf))"
      ],
      "metadata": {
        "id": "280LNekcsPtl",
        "colab": {
          "base_uri": "https://localhost:8080/"
        },
        "outputId": "ce7d8956-af6f-4147-e22a-4ca215c03e09"
      },
      "execution_count": null,
      "outputs": [
        {
          "output_type": "stream",
          "name": "stdout",
          "text": [
            "573\n"
          ]
        }
      ]
    },
    {
      "cell_type": "code",
      "source": [
        "\n",
        "df2 = pd.read_csv('Conversation.csv')\n",
        "\n",
        "questions = df2['question'].tolist()\n",
        "answers = df2['answer'].tolist()\n",
        "\n",
        "temp = map(format, questions)\n",
        "temp2 = map(format, answers)\n",
        "\n",
        "questions = list(temp)\n",
        "answers = list(temp2)\n"
      ],
      "metadata": {
        "id": "L-nijJSCtytS"
      },
      "execution_count": null,
      "outputs": []
    },
    {
      "cell_type": "markdown",
      "source": [
        "--EXIT--"
      ],
      "metadata": {
        "id": "AMfwp0hitdK-"
      }
    },
    {
      "cell_type": "code",
      "source": [
        "f = open(\"SongsAndPoems.txt\")\n",
        "dat = f.read()"
      ],
      "metadata": {
        "id": "eyXqlQZKV9Lm"
      },
      "execution_count": 87,
      "outputs": []
    },
    {
      "cell_type": "code",
      "source": [
        "dat"
      ],
      "metadata": {
        "colab": {
          "base_uri": "https://localhost:8080/",
          "height": 1000
        },
        "id": "0qo_tyRUWba6",
        "outputId": "c29b05ba-59ef-44ac-a0de-42d24070c9b3"
      },
      "execution_count": 88,
      "outputs": [
        {
          "output_type": "execute_result",
          "data": {
            "text/plain": [
              "'Deep in the darkest part of your heart\\nEvery beat seems to be a trying slow start\\nPride and victory have no place here\\nReasonable thoughts are placed on the back burner\\nEvery breath  difficult and heavy\\nSeasons all remain the same, cold, dark and gloomy\\nStereotypical behaviour is quite apparent\\nIn the quiet darkness you reside\\nOn a deep running  slow train\\nNever, yes it never seems like you’ll come back again\\nA little soul scarce fledged for earth\\nTakes wing with heaven again for goal\\nEven while we hailed as fresh from birth\\nA little soul.\\nOur thoughts ring sad as bells that toll,\\nNot knowing beyond this blind world\\'s girth\\nWhat things are writ in heaven\\'s full scroll.\\nOur fruitfulness is there but dearth,\\nAnd all things held in time\\'s control\\nSeem there, perchance, ill dreams, not worth\\nA little soul.\\nThe little feet that never trod\\nEarth, never strayed in field or street,\\nWhat hand leads upward back to God\\nThe little feet?\\nA rose in June\\'s most honied heat,\\nWhen life makes keen the kindling sod,\\nWas not so soft and warm and sweet.\\nTheir pilgrimage\\'s period\\nA few swift moons have seen complete\\nSince mother\\'s hands first clasped and shod\\nThe little feet.\\nThe little hands that never sought\\nEarth\\'s prizes, worthless all as sands,\\nWhat gift has death, God\\'s servant, brought\\nThe little hands?\\nWe ask:  but love\\'s self silent stands,\\nLove, that lends eyes and wings to thought\\nTo search where death\\'s dim heaven expands.\\nEre this, perchance, though love know nought,\\nFlowers fill them, grown in lovelier lands,\\nWhere hands of guiding angels caught\\nThe little hands.\\nThe little eyes that never knew\\nLight other than of dawning skies,\\nWhat new life now lights up anew\\nThe little eyes?\\nWho knows but on their sleep may rise\\nSuch light as never heaven let through\\nTo lighten earth from Paradise?\\nNo storm, we know, may change the blue\\nSoft heaven that haply death descries\\nNo tears, like these in ours, bedew\\nThe little eyes.\\nWas life so strange, so sad the sky,\\nSo strait the wide world\\'s range,\\nHe would not stay to wonder why\\nWas life so strange?\\nWas earth\\'s fair house a joyless grange\\nBeside that house on high\\nWhence Time that bore him failed to estrange?\\nThat here at once his soul put by\\nAll gifts of time and change,\\nAnd left us heavier hearts to sigh\\n\\'Was life so strange?\\'\\nAngel by name love called him, seeing so fair\\nThe sweet small frame;\\nMeet to be called, if ever man\\'s child were,\\nAngel by name.\\nRose-bright and warm from heaven\\'s own heart he came,\\nAnd might not bear\\nThe cloud that covers earth\\'s wan face with shame.\\nHis little light of life was all too rare\\nAnd soft a flame:\\nHeaven yearned for him till angels hailed him there\\nAngel by name.\\nThe song that smiled upon his birthday here\\nWeeps on the grave that holds him undefiled\\nWhose loss makes bitterer than a soundless tear\\nThe song that smiled.\\nHis name crowned once the mightiest ever styled\\nSovereign of arts, and angel:  fate and fear\\nKnew then their master, and were reconciled.\\nBut we saw born beneath some tenderer sphere\\nMichael, an angel and a little child,\\nWhose loss bows down to weep upon his bier\\nThe song that smiled.\\nKneel down, fair Love, and fill thyself with tears,\\nGirdle thyself with sighing for a girth\\nUpon the sides of mirth,\\nCover thy lips and eyelids, let thine ears\\nBe filled with rumour of people sorrowing;\\nMake thee soft raiment out of woven sighs\\nUpon the flesh to cleave,\\nSet pains therein and many a grievous thing,\\nAnd many sorrows after each his wise\\nFor armlet and for gorget and for sleeve.\\nO Love\\'s lute heard about the lands of death,\\nLeft hanged upon the trees that were therein;\\nO Love and Time and Sin,\\nThree singing mouths that mourn now underbreath,\\nThree lovers, each one evil spoken of;\\nO smitten lips wherethrough this voice of mine\\nCame softer with her praise;\\nAbide a little for our lady\\'s love.\\nThe kisses of her mouth were more than wine,\\nAnd more than peace the passage of her days.\\nO Love, thou knowest if she were good to see.\\nO Time, thou shalt not find in any land\\nTill, cast out of thine hand,\\nThe sunlight and the moonlight fail from thee,\\nAnother woman fashioned like as this.\\nO Sin, thou knowest that all thy shame in her\\nWas made a goodly thing;\\nYea, she caught Shame and shamed him with her kiss,\\nWith her fair kiss, and lips much lovelier\\nThan lips of amorous roses in late spring.\\nBy night there stood over against my bed\\nQueen Venus with a hood striped gold and black,\\nBoth sides drawn fully back\\nFrom brows wherein the sad blood failed of red,\\nAnd temples drained of purple and full of death.\\nHer curled hair had the wave of sea-water\\nAnd the sea\\'s gold in it.\\nHer eyes were as a dove\\'s that sickeneth.\\nStrewn dust of gold she had shed over her,\\nAnd pearl and purple and amber on her feet.\\nUpon her raiment of dyed sendaline\\nWere painted all the secret ways of love\\nAnd covered things thereof,\\nThat hold delight as grape-flowers hold their wine;\\nRed mouths of maidens and red feet of doves,\\nAnd brides that kept within the bride-chamber\\nTheir garment of soft shame,\\nAnd weeping faces of the wearied loves\\nThat swoon in sleep and awake wearier,\\nWith heat of lips and hair shed out like flame.\\nThe tears that through her eyelids fell on me\\nMade mine own bitter where they ran between\\nAs blood had fallen therein,\\nShe saying; Arise, lift up thine eyes and see\\nIf any glad thing be or any good\\nNow the best thing is taken forth of us;\\nEven she to whom all praise\\nWas as one flower in a great multitude,\\nOne glorious flower of many and glorious,\\nOne day found gracious among many days:\\nEven she whose handmaiden was Love--to whom\\nAt kissing times across her stateliest bed\\nKings bowed themselves and shed\\nPale wine, and honey with the honeycomb,\\nAnd spikenard bruised for a burnt-offering;\\nEven she between whose lips the kiss became\\nAs fire and frankincense;\\nWhose hair was as gold raiment on a king,\\nWhose eyes were as the morning purged with flame,\\nWhose eyelids as sweet savour issuing thence.\\nThen I beheld, and lo on the other side\\nMy lady\\'s likeness crowned and robed and dead.\\nSweet still, but now not red,\\nWas the shut mouth whereby men lived and died.\\nAnd sweet, but emptied of the blood\\'s blue shade,\\nThe great curled eyelids that withheld her eyes.\\nAnd sweet, but like spoilt gold,\\nThe weight of colour in her tresses weighed.\\nAnd sweet, but as a vesture with new dyes,\\nThe body that was clothed with love of old.\\nAh! that my tears filled all her woven hair\\nAnd all the hollow bosom of her gown--\\nAh! that my tears ran down\\nEven to the place where many kisses were,\\nEven where her parted breast-flowers have place,\\nEven where they are cloven apart--who knows not this?\\nAh! the flowers cleave apart\\nAnd their sweet fills the tender interspace;\\nAh! the leaves grown thereof were things to kiss\\nEre their fine gold was tarnished at the heart.\\nAh! in the days when God did good to me,\\nEach part about her was a righteous thing;\\nHer mouth an almsgiving,\\nThe glory of her garments charity,\\nThe beauty of her bosom a good deed,\\nIn the good days when God kept sight of us;\\nLove lay upon her eyes,\\nAnd on that hair whereof the world takes heed;\\nAnd all her body was more virtuous\\nThan souls of women fashioned otherwise.\\nNow, ballad, gather poppies in thine hands\\nAnd sheaves of brier and many rusted sheaves\\nRain-rotten in rank lands,\\nWaste marigold and late unhappy leaves\\nAnd grass that fades ere any of it be mown;\\nAnd when thy bosom is filled full thereof\\nSeek out Death\\'s face ere the light altereth,\\nAnd say \"My master that was thrall to Love\\nIs become thrall to Death.\"\\nBow down before him, ballad, sigh and groan.\\nBut make no sojourn in thy outgoing;\\nFor haply it may be\\nThat when thy feet return at evening\\nDeath shall come in with thee.\\nStab me with your rusty knives\\nI don\\'t care\\nI\\'ve given up my quest for acceptance\\nLeft my dream of peace\\nCut me all your evil mind wants\\nI beg you to let me die\\nI want to lie here on the floor\\nBleed to nothingness in the night\\nPerhaps then my soul will fly\\nUnite with the wind and muggy air\\nFeel the warmth of joy\\'s arms\\nSo do what you want to my useless heart\\nChop me to pieces or burn me alive\\nIf death is my only way to salvation\\nThen I want to open the darkened door now.\\nAnd this is just another sad song\\nI can\\'t deny that I\\'ve been needing one\\nAnd that the world is always at fault\\nAnd we did nothing, how did we do wrong?\\nAnd I\\'ve been thinking that when we thought\\nThe world would break us that we weren\\'t wrong\\nBut it\\'s just never been the world outside\\nAnd sonder kinda has me terrified\\nAnd I\\'m so sorry I can\\'t find the time\\nSpent all my days over-preoccupied\\nAnd I\\'ve been thinkin\\' \\'bout how I\\'d react\\nIf you were me and I was ghosted out\\nAnd I know I should try more\\nBut I\\'ve been so caught in my own small shit that I can\\'t see\\nPast the nothing around me here\\nBut I\\'ve been trying really fuckin\\' hard not to try so hard\\nReally fuckin\\' hard to just let go\\nReally fuckin\\' hard not to try so hard\\nAnd realize I\\'ve nowhere left to go\\nAnd I said what\\'s up? What you been thinking?\\n\\'Cause you\\'ve been staring at that roof so long, I swear it\\'s come alive\\nAnd she spoke nine words and now we\\'re sinking\\nBut I can\\'t find it in myself to want to lie to keep this thing from going down\\n\\'Cause that girl took my heart\\nAnd I ain\\'t want it back\\nNo\\n\\'Cause you said it meant nothing\\nAnd I should\\'ve kept my silence\\nBut I guess I\\'m too attached to my own pride to let you know\\nThat all these words meant nothing\\nAnd I\\'ve always been this heartless\\nBut we\\'re just having sex, no, I would never call it love\\nBut love\\nOh, no, I think I\\'m catching feelings\\nAnd I don\\'t know if this is empathy I feel\\nJust hold on\\nRemember why you said this was the last time?\\nI\\'m laying down my cards\\nAnd what\\'s good\\nWhen both choices I\\'ve got\\nHave us staring down the barrel to the bullets I can\\'t stop?\\nAnd so I stand off like indecision\\'s Kevlar\\n\\'Til this fear of feeling stops and I\\'m done\\nBut you\\nNo, I don\\'t know how to forget you\\nNo, I don\\'t know how to forget you\\nNo, I don\\'t know how to forget you\\nNo, I don\\'t know how to forget you\\nOh, no, I think I\\'m catching feelings\\nAnd I don\\'t know if this is empathy I feel\\nJust hold on\\nRemember why you said this was the last time?\\nNo, I don\\'t know how to forget you\\nNo, I don\\'t know how to forget you\\nNo, I don\\'t know how to forget you\\nNo, I don\\'t know how to forget you\\n\\'Cause I had the best of the worst sides\\nAnd I had these lungs, ohh\\nAnd I had too many flashbacks\\nThat I just let them burn\\n\\'Till my chest is on fire\\nAnd my head just won\\'t die\\nI guess I\\'m lying \\'cause I wanna\\nI guess I\\'m lying \\'cause I don\\'t\\n\\'Cause I just feel so tired\\nLike it\\'s move or slowly die\\nYou say, \"You ain\\'t you when you\\'re like this\\nThis ain\\'t you and you know it\"\\nBut ain\\'t that just the point?\\nYou don\\'t know how to let go\\nWho said this must be all or nothing?\\nBut I\\'m so caught below, and I\\'ll never let you know\\nNo, I can\\'t tell you nothing\\n\\'Cause I\\'m a fucking mess sometimes\\nBut still I could always be\\nWhatever you wanted\\nBut not what you needed\\nEspecially when you been needing me\\n\\'Cause I\\'m a fucking mess sometimes\\nAnd I\\'ll say what I don\\'t mean\\nJust \\'cause I wanted\\nOr maybe I need it\\nSwear lying\\'s the only rush I need\\n\\'Cause all I needed was some words to say\\nThat all these feelings don\\'t mean shit to me\\n\\'Cause it\\'s all just chemicals anyway, anyway, yeah\\nAnd I got way too many routes to take\\nTo make this all just go away\\nAnd find another heart to break\\nSo heartless with these words I say\\nJust saying what I\\'m supposed to say\\n\\'Cause I had nothing for you\\nI can\\'t love when I can\\'t even love myself\\nThings I would rather be thoughts at the back of my head\\nBut I\\'m addicted to hurting\\nAnd I got these lungs\\nAnd I spent too many late nights\\nJust thinking a hole in the earth\\n\\'Till the sky is on fire\\nAnd my head still won\\'t die\\nI guess I\\'m lying \\'cause I wanna\\nI guess I\\'m lying \\'cause I don\\'t\\n\\'Cause I just feel so tired\\nLike I need something to come alive\\nShe said, \"You ain\\'t you when you\\'re like this\\nThis ain\\'t you, what you doing?\"\\nAnd I said, \"That\\'s the point\"\\nYou don\\'t know how to let go\\nWho said this must be all or nothing?\\nBut I\\'m so caught below, and I\\'ll never let you know\\nNo, I can\\'t tell you nothing\\n\\'Cause I\\'m a fucking mess sometimes\\nBut still I could always be\\nWhatever you wanted, but not what you needed\\nEspecially when you been needing me\\n\\'Cause I\\'m a fucking mess inside\\nAnd I\\'ll say what I don\\'t mean\\nJust \\'cause I want it\\nOr maybe I need it\\nSwear lying\\'s the only rush I need\\nYeah, yeah, yeah, oh\\nYeah, oh yeah, I need it\\nYeah, I need it, I need it I need it, I need it, yeah\\n\\'Cause we\\'ve been driving so long\\nI can\\'t remember how we got here\\nOr how we survived so long\\nTrying to run from our pride\\n\\'Till you set fire to my atmosphere\\nAnd I remember how I spent the twenty-third\\nFeeling six feet under\\nWhen I\\'m thirty-thousand feet in the air\\nChasing that sundown\\nSo far east I\\'m westbound\\nFeeling like the edge of this world is near\\nBut you\\'ll feel better when you wake up\\nSwear to god I\\'ll make up\\nEverything and more when I get back someday\\nThis is more than just a phase, love\\nShooting stars all break up\\nAnd even though it seems like half the world away\\nThings will be better in America\\nHeard the streets are gold there\\nMaybe I could fly you out this place someday\\nChasing dreams like I\\'m on Novocaine\\nScreaming through your airwaves\\nLooking back I almost thought I heard you say\\nStay, you\\'re not gonna leave me\\nThis place is right where you need to be\\nAnd why your words gotta mean so much to them\\nAnd they mean nothing to me?\\nSo stay, you\\'re not what you\\'re hearing\\n\\'Cause I\\'ve been watching you changing\\nAnd who said you\\'re one in a million, anyway?\\n\\'Cause you see only what you want to\\nYour tunnel vision owns you\\nAnd you can\\'t see what\\'s wrong\\nWhen you keep sleeping through the PM\\nEyes wide open when you\\'re dreaming\\nYou’re sleepwalking, just keep talking\\nMaybe you can talk your way out of this deep end\\nNo B-plan in your system\\nJust tell me what you\\'re thinking\\nI\\'m scared that you might fall\\nBut you\\'re not\\nBut you\\'re not\\nAnd you\\'ll feel better when you wake up\\nTaking off your makeup\\nSun always seems to wash our fears away\\nAnd it\\'s always shining somewhere\\nI just gotta get there\\nAnd even though it seems like half the world away\\nThings are better in America\\nHeard the streets are gold there\\nMaybe I could fly you out this place someday\\nChasing dreams like I\\'m on Novocaine\\nScreaming through your airwaves\\nLooking back I almost thought I heard you say\\nStay, you\\'re not gonna leave me\\nThis place is right where you need to be\\nAnd why your words gotta mean so much to them\\nAnd they mean nothing to me?\\nSo stay, you\\'re not what you\\'re hearing\\n\\'Cause I\\'ve been watching you changing\\nAnd who said you\\'re one in a million?\\nYou’re so much better than that\\nYou’re so much better than that\\nYou’re so much better than that\\nStay, you\\'re not what you\\'re hearing\\n\\'Cause I\\'ve been watching you changing\\nAnd who said you\\'re one in a million anyway?\\nAnd you\\'ll feel better when you wake up\\nSwear to God, I\\'ll make up\\nEverything and more when I get back someday\\nChasing dreams like I\\'m on Novocaine\\nScreaming through your airwaves\\nLooking back I almost thought I heard you say:\\n\"You\\'re so much better than that\"\\nCigarette ash like wildfire\\nBurning holes in the nighttime\\nOpen scars feel like barbed wire\\nWhite lies flying high like a ceasefire\\nDropping flags on the shoreline\\nThis is as far as I can feel right\\n\\'Cause what you don\\'t know\\nCan haunt you\\nAnd all we ever wanted\\nWas sunlight and honesty\\nHighlights to wanna repeat\\nLet\\'s get away from here and\\nLive like the movies do\\nI won\\'t mind when it\\'s over\\nAt least I didn\\'t think for a while\\nSo let\\'s run\\nMake a great escape\\nAnd I\\'ll be waiting outside for the getaway\\nIt doesn\\'t matter who we are\\nWe\\'ll keep running through the dark\\nAnd all we\\'ll ever need is another day\\nWe can slow down \\'cause tomorrow is a mile away\\nAnd live like shooting stars\\n\\'Cause happy endings hardest to fake\\nSunsets on power lines\\nMaking a break for the other side\\nHeading out to where that sunshine\\n45 millimeter rolling like we lost time\\nPolaroids and OutKast\\nRather burnout young than grow up fast\\nAnd we could be forever future bound\\n\\'Cause all I need is time and now\\nAnd I could leave this past behind me\\n(And all we ever wanted was)\\nAnd maybe I\\'ll see a way for me to stay\\n(Sunshine and honesty highlights)\\nWhen there\\'s so much out there\\n(To wanna repeat let\\'s get away from here and)\\nSo I\\'ll live forgetting for the time being\\n(Live like the movies do)\\nAnd I won\\'t mind when it\\'s over\\nAt least I didn\\'t think for a while\\nSo let\\'s run\\nMake a great escape\\nAnd I\\'ll be waiting outside for the getaway\\nIt doesn\\'t matter who we are\\nWe\\'ll keep running through the dark\\nAnd all we\\'ll ever need is another day\\nWe can slow down \\'cause tomorrow is a mile away\\nAnd live like shooting stars\\n\\'Cause everything was never the same\\nAnd I wanna let you know\\nI wanna let you go\\nBut I just can\\'t bring myself to speak\\nBut this is how it goes\\nThe end credits, they roll\\nThis bridge was built over kerosene\\nBut we can watch it burn\\nAnd all I ever wanted\\nWas sunlight and honesty\\nHighlights to wanna repeat\\nLet\\'s get away from here and\\nLive like the movies do\\nI won\\'t mind when it\\'s over\\nAt least I didn\\'t think for a while\\nSo let\\'s run\\nMake a great escape\\nAnd I\\'ll be waiting outside for the getaway\\nIt doesn\\'t matter who we are\\nWe\\'ll keep running through the dark\\nAnd all we\\'ll ever need is another day\\nWe can slow down \\'cause tomorrow is a mile away\\nAnd live like shooting stars\\n\\'Cause you can wish away forever\\nBut you\\'ll never find a thing like today\\nAnd if I told you how this story ends\\nWould you change a step you take?\\nAnd if I could relive all of my days\\nI\\'d live them all the same\\n\\'Cause I\\'m scared\\nOf all that I don\\'t know\\n\\'Cause I want it all, but all of it ain\\'t gold\\nAnd I\\'m scared\\nBut I know it\\'s not for long\\n\\'Cause I\\'m learning what I should\\'ve long before\\nThat all we are\\nIs a light into the darkness\\nAnd all we are\\nIs time that\\'s counting down\\nAnd all we are\\nIs falling through the spaces in between\\nEndless flight\\nA lifetime in repeat\\nBut I still find solace\\nWhen you say\\nThat you know how I feel\\nWhen it\\'s wrong\\nAnd we ain\\'t been right for years\\nAnd let go\\nGive these ghosts a new home\\nAnd let\\'s bury our past and our fears and all these bones\\nAnd let\\'s go\\nI should\\'ve seen it long before\\n\\'Cause this is my life\\nI will not run in circles\\nEnding where I start\\nSo hold on to me\\nWe\\'ll burn out slowly\\nAnd feel our hearts leap\\nTo words we don\\'t mean love\\nMeans nothing to me\\n\\'Cause I don\\'t know what it is\\nI\\'m just dying to be\\nAll that I\\'ve been dreaming of\\nAnd words betray me\\nContradict all I stand for\\nBut I\\'m still learning\\nYeah, I\\'m still learning\\nThat all we are\\nIs a light into the darkness\\nAnd all we are\\nJust time that\\'s counting down\\nAnd all we are\\nIs falling through the spaces in between\\nEndless flight\\nWe\\'re falling to our knees\\nIt\\'s been a few years since you been gone\\nThere\\'s been a few tears, but that was years and years ago\\nYeah, I grew up to be exactly what you wanted\\nYeah, I\\'ve been living out the dream that you dreamt up\\nIt\\'s been a few years with more to come\\nIt\\'s been a few years since I\\'ve felt sure of what I want\\nAnd I woke up today and found that you were waiting here for me and I thought\\nWoah, old friend, it\\'s bittersweet\\nBut how could you do this to me?\\nHow could you do this to me?\\n\\'Cause you are not who you think you are\\nThere\\'s no grain on these brown eyes\\nBut they can be green if they really want\\nAnd I can bend your words\\nSo they say exactly what hurts the most\\nBut silence is better than fake laughs or faking we\\'re always up\\nLoose grip\\nThe world bends around you\\nAnd living through cracked screens\\nWe fold down to what we want\\nOut of love\\nWe talk through lines, we\\'re made of smoke\\nAnd just in time, we drift away\\nDiffusing light, confusing times\\nGrowing up, or cascading down?\\nCascading down\\nI\\'m hurting now\\nBut change comes slow\\nIf you hate what\\'s in your head, the fuck would you speak your mind?\\nIn search of lost time\\nJust 21, so I\\'m young and I\\'m stupid\\nOnly 16, yeah, I think you should\\'ve known\\nI think you fucked me up\\nI think, I think you fucked me up\\nAnd I\\'ve got nothing to say to you\\nIt\\'s been a few years and I moved on\\nCouldn\\'t make it disappear, oh I tried so hard to be strong\\nBut I grew up today and faced that I\\'m not just lonely\\nDon\\'t feel much better but I guess that it\\'s a start\\nUnder the ring of linked brown arms,\\nbare feet, brown feet with whiter soles\\ndrum on the dusty, hard brown earth, stomp the rhythm\\nas if to wake the gods of earth\\nto draw the rain down to the roots,\\ncaressing seeds against the growing time,\\nhearing the tears at the heart of things;\\nhearing the shuffle-clank\\nof leg irons listening for some rhythm that consoles\\nwith promise; hearing the blues sung softly, like a prayer,\\ntaken up across the cotton field,\\nsadness meeting hope in longing patience\\nand  a century ago\\nthe white lady who loved Africa said,\\nI am weary with the future\\nwhite boy, you’re so young\\nhow could you hear the blues so well?\\nare they just around the corner\\nof every town that’s built, as dusk descends?\\nDo they lurk wherever lips meet plangent trumpet,\\nin the reeds of mourning clarinet,\\nthe nostalgia of a dreaming saxophone?\\nWherever future whispers to the past\\nand hears the sad reply?\\nwhite boy, white boy without a past,\\nyou hear the blues so well,\\nI think you hear\\nthose future blues,\\nthose old white future blues,\\nthose lonesome future blues.\\nI’ve seen dark eyes\\nOf imminent oblivion,\\nI’ve felt the warm breath\\nOf the hounds of death\\nBreathing against my neck.\\nAnd it has been\\nA long season of recriminations\\nSince the days of youth\\nWhen a woman’s face\\nShone like the sun.\\nBut conflagrations of desire\\nNo longer take me higher,\\nThey just incinerate\\nMy ardent dreams,\\nStrangle me in ropes\\nOf despondency.\\nMy wounded mind\\nHallucinates possibilities,\\nThen slides into\\nA darkening drift\\nOf pessimism,\\nAn avalanche of fear.\\nAll thoughts explode,\\nFulminations of failure,\\nTirades of defeat,\\nA heartbreaking wail\\nFor a life incomplete.\\nIn desperate times,\\nI know I need\\nA near-death experience\\nTo receive an epiphany,\\nA glimpse into eternity.\\nIf there are\\nFlowery fields\\nOf love and hope,\\nI need to find\\nThose precious blooms\\nBefore I close my eyes\\nTo a final sunset.\\nToday we face the trying times\\nOf heartache and pain.\\nMany hopes and dreams are shattered,\\nAnd prayers seem to be in vain.\\nWith the hope of peace diminishing,\\nThe heart has no definitive song.\\nWe\\'ve waited for an end to hostilities,\\nBut the struggle seems so long.\\nYet - there is hope for the future,\\nLiberty and freedom are still in command,\\nBut God will make the ultimate decisions.\\nHe will evaluate our worldly demands,\\nAnd he holds the future in his grasp.\\nWhy should we despair?\\nHe mourns and counts every tear,\\nAnd he hears and reviews every prayer.\\nI hope my family get a long like they use too\\nI hope God finds away to bring my brother\\nback from drugs\\nI hope my father stays in my life and don\\'t\\ntake off life he did before when I was a baby\\nI hope before I am 30 years old I be marriage\\nand have family like my friends do\\nI hope my dreams I want out of life comes true\\nI hope me wanting to hope is not dumb\\nI hope is right thing to do in life\\nI hope I get in to college\\nI hope my mom finds good guy beside\\njerks\\nI hope who I am with doesn\\'t hurt me\\nor break my heart like guys did with\\nmy mom\\nI hope my brother leaves this girl that\\nkeep him away from his family\\nI hope Amber will always be my best friend\\nI hope Rusty doesn\\'t every leave me\\nI hope God helps find away for us\\nto be together me and Rusty\\nI hope my family is happy\\nI hope my friends are happy and thankful\\nfor what they have in life\\nI hope when Jennifer gets marriager it doesn\\'t\\nbe life her last one ended bad\\nI hope everyone learns how good is to hope\\nand pray for things you need.\\nI hope everyone thankful and glad to be here\\nin this world.\\nUpon an eve I sat me down and wept,\\nBecause the world to me seemed nowise good;\\nStill autumn was it, & the meadows slept,\\nThe misty hills dreamed, and the silent wood\\nSeemed listening to the sorrow of my mood:\\nI knew not if the earth with me did grieve,\\nOr if it mocked my grief that bitter eve.\\nThen ’twixt my tears a maiden did I see,\\nWho drew anigh me on the leaf-strewn grass,\\nThen stood and gazed upon me pitifully\\nWith grief-worn eyes, until my woe did pass\\nFrom me to her, and tearless now I was,\\nAnd she mid tears was asking me of one\\nShe long had sought unaided and alone.\\nI knew not of him, and she turned away\\nInto the dark wood, and my own great pain\\nStill held me there, till dark had slain the day,\\nAnd perished at the grey dawn’s hand again;\\nThen from the wood a voice cried: “Ah, in vain,\\nIn vain I seek thee, O thou bitter-sweet!\\nIn what lone land are set thy longed-for feet?”\\nThen I looked up, and lo, a man there came\\nFrom midst the trees, and stood regarding me\\nUntil my tears were dried for very shame;\\nThen he cried out: “O mourner, where is she\\nWhom I have sought o’er every land and sea?\\nI love her and she loveth me, and still\\nWe meet no more than green hill meeteth hill.”\\nWith that he passed on sadly, and I knew\\nThat these had met and missed in the dark night,\\nBlinded by blindness of the world untrue,\\nThat hideth love and maketh wrong of right.\\nThen midst my pity for their lost delight,\\nYet more with barren longing I grew weak,\\nYet more I mourned that I had none to seek.\\nThe world has lost the ear for rhyme.\\nIt still makes children squirm with pleasure;\\nand from some witty pens and minds, its fireworks fizz;\\nso, after all these centuries of rhyme\\nand all the games of meter, dancing words,\\nshould we now mourn its passing?\\nHave we lost the music of another world?\\nInstead, the easy unpretentious discourse,\\nsober, light, familiar, honest -\\nthe world of daily, homely, shared sharp life,\\nthat\\'s now preferred. Not prose;\\nmuch more than \\'chopped-up prose\\' as those may say\\nwho think that poetry should be more visibly hard-earned;\\n- as if a human life set down in honesty\\nwere not a poem in itself, unwrit;\\n\\'prose with enhanced consciousness\\' it\\'s often now defined;\\nand consciousness - now that\\'s earned, if you like...\\nand simile, and imagery, and metaphor - all the repertoire\\nof glorious poetry - they\\'re all still here\\nto work their magic; if more played down, now,\\nunostentatious as T-shirt and jeans;\\nunostentatious as the beating, bloody heart.\\nAnd yet, when years bring tears\\nand time brings death and dying,\\nit\\'s time for rhyme, to heal the heart\\nand charm away the crying.\\nLost in a world, that scares me to death,\\nLost in a crowd, I\\'m losing my breath.\\nLost as a boy, lost as a man,\\nI need to grow up, don\\'t think I can.\\nLost as a person, can\\'t find my way.\\nLost in life, every day.\\nLost in worry, who am I?\\nAll my life, I\\'ve lived a lie.\\nLost to kindness, lost to love,\\nLost in a sky, like a new-born dove.\\nLost in thought, which I shouldn\\'t do,\\nIt winds me up, I can’t get through.\\nLost to comfort, all kind words,\\nLost to advice, it isn\\'t heard.\\nLost to those who really care,\\nAll these people, always there.\\nLost in me, I need a break,\\nLost in wonder, which road to take?\\nLost in a place I don\\'t know well,\\nWhere are you now? There\\'s no one to tell.\\nLost here, all alone,\\nLost apart from the mobile phone.\\nLost still, there are no calls.\\nI\\'m struggling alone, to break these walls.\\nLost in mind, lost in soul,\\nLost memories, they\\'re just a hole.\\nLost family, lost mate,\\nGone now, yet I\\'m full of hate.\\nLost in a straight world, and I am gay,\\nLost now, for what to say,\\nLost in boredom, think I\\'ll leave.\\nThere\\'s a lot in life I need to achieve.\\nWaiting patiently a quarter to one,\\nwe heard the whistle blow.\\nI looked at the others, took deep breaths,\\nit’s almost time to go.\\nThe train approached, there it was\\nbigger than life in front of me.\\nmy first time to jump the coal train\\nand take that coal for free.\\nWe ran with strength and agility,\\nsprung like jumping jacks.\\nTook our places a top the car,\\nzooming along the railroad tracks.\\nQuickly with all the strength we had,\\nwe threw coal to the ground.\\nThe next task was to bag it up\\nand sell it in our town.\\nThe coal train came everyday\\nat a quarter to one,\\nmy first day would be my last,\\nI put my coal bag down.\\nAnother true story of my childhood in Sydney Nova\\nScotia.  Jumping the old coal train to make a few cents,\\nvery little gain indeed.  Looking back once again, I see\\nthe danger of the act, for what was profited certainly\\nwasn’t worth all that.  A word to the young, “stay out\\nof harms way, remain honest and true,  the coal train\\nwas not for me and certainly not for you.\\nWhat went wrong?\\nRunning on empty\\nI waited years in a past life\\nRunning out of rope and\\u2005the\\u2005water\\'s high\\nI drowned\\u2005for you and I didn\\'t regret\\u2005it\\nDon\\'t text me back in the afterlife\\nNeeded the time, I didn\\'t realise\\nI had it all along, can\\'t take my own advice\\nConflated filling the gaps for love\\nAnd it\\'s obvious that I\\'m caved in and breaking up\\nBut I know it\\'s good (I know it\\'s good)\\nI know it\\'s good (I know it\\'s good)\\nThough it\\'s over now, in my dreams you call me back\\nBut I hope you don\\'t (I hope you don\\'t)\\nI hope you don\\'t (I hope you don\\'t)\\nI hope you\\'re gone and lost in better days\\nI\\'ve been watching the time, how it erodes away\\nThinking \\'bout how the last years feel like yesterdays\\nHow did I lose grip on it?\\nHonest, been falling through nightmares, light years away\\nAnd doing my best to keep those thoughts at bay\\nAnd finding my highlights in the loudest places\\nAnd strangers\\' faces getting caught up in the race of it\\n(How did we get lost overgrown?)\\nAnd walking through the clearing crowd\\nIf we took our chances (When it\\'s time to go)\\nAnd we exchanged glances, call it in the moment\\n(When did I lose all this love?)\\nAnd walking down the road that I grew up on\\nAnd falling out of habits\\nStop bleeding for empathy\\'s sake\\nAnd it\\'s obvious that I\\'m caved in and breaking up\\nBut I know it\\'s good, I know it\\'s good, ooh\\nThough it\\'s over now, in my dreams you call me back\\nBut I hope you don\\'t, I hope you don\\'t\\n\\'Cause I don\\'t need you to tell me that\\n(Walking through the clear-)\\n(Breaking up) (We took our chances)\\nI don\\'t need you to tell me that\\n(How did we get overgrown?)\\n(But we exchanged glances) (It\\'s good)\\n(Call it in the moment)\\nI don\\'t need you to tell me that\\n(Now it\\'s time to go soon)\\n(Walking down the road that I grew up on)\\n(You\\'d call me back, but I hope you don\\'t)\\nOh I don\\'t need you to tell me that\\nIt\\'s okay, I\\'m going (It\\'s okay, I\\'m going)\\nI\\'m searching (I\\'m searching)\\nFor what I am now (For what I am now)\\nI\\'ll find you if it\\'s urgent (Find you if it\\'s urgent)\\nOr if I\\'m hurting (If I\\'m hurting)\\nMore than I am now (Than I am now)\\nAnd we\\'ll come back here someday\\n(Back here someday)\\nAnd laugh about it \\nMemories that don\\'t know\\nHow it felt like I was burning (Like I was burning)\\nWhile you weren\\'t watching\\nTook everything I loved\\nNow nowhere feels like home, home\\nNow nowhere feels like home, home\\nYeah, nowhere feels like home, home\\nnowhere feels like home\\nBeen a long life, still got mad time\\nTook a wrong right on it last time \\nThrough the long night, made it out alright\\nTold my brother, \"Hold tight\"\\nSometimes I can feel it, I can feel it\\nSometimes I still Sometimes I still\\nNowhere feels like home\\nSometimes I feel Sometimes I feel\\nNowhere feels like home\\nSome times\\nSo tell me this is who you are, yeah\\nThey tell me I\\'ve got something more\\nAnd oh, you could be loved\\nBut I don\\'t want the lights to find me\\nWhen I\\'m dark and lost, but never on my own\\n\\'Cause I just wanna swing like Sinatra\\nSinging like I can\\'t stop\\n\\'Cause I could never rock like a Rolling Stone\\nI just wanna live like the ones before, yeah\\nAnd maybe I could play guitar like Hendrix or save the world or end it, and\\nThen maybe they\\'ll remember me when I\\'m gone\\nThat\\'s all I could ever want\\nThat\\'s all I want\\nSo I got ten minutes to be all or nothing to whoever wants to hear\\nAnd I got ten weeks of talking bullshit on repeat till I\\'m burnt out and disappear\\nBut I owe you nothing\\nAnd I own my luck\\nOh, they said, \"You\\'ll never be alone again\"\\nBut I don\\'t think you understand me or what I fear\\n\"But you could be loved\"\\nBut I don\\'t wanna lie to tell myself\\nI\\'m more than all the mistakes I\\'ve outrun\\n\\'Cause I\\'m only here for a minute\\nAnd I don\\'t care what you say \\'cause I know\\nYou\\'re only here \\'cause I\\'m winning\\nBut I can be my own kind of rock and roll, I\\nI don\\'t really care if you say you don\\'t fuck with me\\nAnd I can say what the fuck I want \\'cause it\\'s down to me\\nAnd I got love for you even if you are doubting me\\nLike, oh my God, I just can\\'t stop\\n\\'Cause I just wanna sing like Sinatra with ethanol my soundtrack\\n\\'Cause I could never rock like a Rolling Stone\\nI wonder how it feels to burn out young, yeah\\n\\'Cause I just wanna die before my heart fails from heartbreak or cocktails, and\\nThen maybe you\\'ll cry once you know I\\'m gone\\nThat\\'s all I could ever want, oh, that\\'s all I want, yeah\\n\\'Cause it\\'s all we\\'ve got, what are we breathin\\' for if we ain\\'t living?\\nI ain\\'t scared of livin\\'\\nAnd I don\\'t want your love, I just wanna feel like I\\'m still livin\\'\\nI ain\\'t scared of livin\\'\\nAnd if there is no god, I know the day I die, I lived through heaven\\nAnd that I gave it hell\\nAnd if it hurt, oh well, at least, that\\'s living\\nI ain\\'t scared of livin\\'\\nIt\\'s been a few years since you been gone\\nThere\\'s been a few tears, but that was years and years ago\\nYeah, I grew up to be exactly what you wanted\\nYeah, I\\'ve been living out the dream that you dreamt up\\nIt\\'s been a few years with more to come\\nIt\\'s been a few years since I\\'ve felt sure of what I want\\nAnd I woke up today and found that you were waiting here for me and I thought\\nWoah, old friend, it\\'s bittersweet\\nBut how could you do this to me?\\nHow could you do this to me?\\n\\'Cause you are not who you think you are\\nThere\\'s no grain on these brown eyes\\nBut they can be green if they really want\\nAnd I can bend your words\\nSo they say exactly what hurts the most\\nBut silence is better than fake laughs or faking we\\'re always up\\nLoose grip\\nThe world bends around you\\nAnd living through cracked screens\\nWe fold down to what we want\\nOut of love\\nWe talk through lines, we\\'re made of smoke\\nAnd just in time, we drift away\\nDiffusing light, confusing times\\nGrowing up, or cascading down?\\nCascading down\\nI\\'m hurting now\\nBut change comes slow\\nIf you hate what\\'s in your head, the fuck would you speak your mind?\\nIn search of lost time\\nJust 21, so I\\'m young and I\\'m stupid\\nOnly 16, yeah, I think you should\\'ve known\\nI think you fucked me up\\nI think, I think you fucked me up\\nAnd I\\'ve got nothing to say to you\\nIt\\'s been a few years and I moved on\\nCouldn\\'t make it disappear, oh I tried so hard to be strong\\nBut I grew up today and faced that I\\'m not just lonely\\nDon\\'t feel much better but I guess that it\\'s a start\\nI wanted you to be the last thing on my mind\\nI wanted you to be the reason I close my eyes\\nBut I can\\'t sleep and, oh, God, I wanted to be your high\\nBut everything I said went unheard\\nAnd everything you saw with eyes straight blurred became our downfall\\n\\'Cause you say I drink and I smoke and I talk too much\\nBut I know, you lie when you said that you just gotta go and save yourself\\nSo hear me out\\nYou know, everybody talks, girl, and it means nothing till you let it\\nBut if you keep second guessing, then there\\'s only gonna be one end\\nYou can leave if you really want to\\nAnd you can run if you feel you have to\\nNow, I\\'ll be fine if you ever ask me\\nI know it\\'s hard, but no one said, it\\'s easy\\nFalling\\'s easy, but there\\'s only one way up\\nSo I\\'ve been thinking that I think too much\\nAnd I can\\'t sleep but I can dream of us\\nAnd I\\'ve been seeing shit like horror cuts\\nIt\\'s burning down, I gotta drown this out\\nAnd you said, you need me to let this go\\nBut it\\'s who I am or am I just losing it?\\n\\'Cause you said jump and I went first, but falling\\'s always been my downfall\\nAnd you say I drink and I smoke and I talk too much\\nBut I know, you lie when you said that you just had enough and save yourself\\nSo hear me out\\nYou know everybody talks, girl and it means nothing till you let it\\nAnd if you keep second guessing, then there\\'s only gonna be one end\\nBut you can leave if you really want to\\nAnd you can run if you feel you have to\\nAnd I can drink if I feel I have to\\nI know it\\'s hard, but I can\\'t feel like I used to, like I used to\\n\\'Cause I used to defy gravity, defy gravity\\nGoodbyes keep dragging me down\\nAnd I\\'m fighting gravity, defying gravity\\nI tried, but I keep falling\\n\\'Cause falling\\'s easy, but it only brings you down\\nDon\\'t know how well this is gonna be\\nBut, the basic idea is\\nFree fall for now\\nDesert air won\\'t drown you out\\nAnd for a second I thought the world was ending\\nAnd I couldn\\'t breathe in\\nYeah, and so this isn\\'t your time\\nYeah, been chasing kairos with those scapegoat eyes\\nCan\\'t you realize?\\nFuck the summertime, it\\'s you\\nSo scared of overgrowing youth\\nWhen it\\'s not done with you\\nAnd everybody gon\\' run, run\\nEverybody gon\\' run, run\\nAnd you can call it what you want\\nBut I call it moving on\\nAnd I\\'m so done with singing words I don\\'t believe in no more\\nSo what you rushing for?\\nWho said it\\'s now or never?\\nI think you\\'re taking on the wrong advice\\nBut it\\'s alright if these are your worst times\\nYou know you\\'re good\\nYou\\'re good\\nAnd if you want you can breathe on your own\\nThis isn\\'t what I thought but it\\'s beautiful\\nMake peace with your mistakes and they\\'ll turn to gold\\nWeightless, I let go\\nAnd everybody gon\\' run, run\\nEverybody gon\\' run, run\\nAnd you can call it what you want\\nBut I call it moving on\\nAnd I\\'m so done with singing words I don\\'t believe in no more\\nNo more, call it what you want\\nCall it what you want but I call it growing up and I\\'m done\\nSo I\\'ve been thinkin\\' \\'bout something\\nLately, I\\'ve been alive\\n\\'Cause I found my reason in nothing\\nSo I won\\'t close my eyes\\n\\'Cause I don\\'t want to miss one second\\nAnd I don\\'t want to feel so cold\\nAnd I don\\'t want to be so sad that we are, who we are\\n\\'Cause we had no control\\nBut only by the night\\nWill we ever make headlines\\nWill we ever make things right\\nWhen we\\'ve only ourselves to blame\\nWhen we\\'ve only ourselves to blame\\nSo I won\\'t sleep, no more\\nNo, I won\\'t sleep, no more\\n(I won\\'t sleep, no more)\\nI always thought that there\\'d be more than just wishing my life away\\nLike I could always\\nFigure it out and never have to abandon what\\'s in front of me\\n(Dream no more)\\nSo get this doubt out of my head\\nIt\\'s only real if you let it\\nAnd I\\'ve been letting go of my ghosts\\nI\\'ll never let them catch me no more\\nThese words are all I have, so I\\'ll just keep dreaming out loud\\nAnd if I just keep talking, maybe I\\'ll figure all of this out\\nBut only by the night\\nWill we ever make headlines\\nWill we ever make things right\\nWhen we\\'ve only ourselves to blame\\nAnd we\\'ve only ourselves to blame\\nSo I won\\'t sleep, no more\\nNo, I won\\'t sleep, no more\\nNo, I won\\'t sleep\\nI always thought that there\\'d be more than just wishing my life away\\nLike I could always\\nFigure it out and never have to abandon what\\'s in front of me\\nDream no more\\nYou came in through my window, you left without a sound\\nYou’re floating through my ceiling,\\u2005eyes\\u2005fixed on the\\u2005ground\\nAm I holding you up?\\nA block\\u2005in the road, no effort to sinking\\nLife’s always telling you\\u205fto\\u205fgo\\n\\'Cause\\u205fwe’re just waiting\\u205fon a signal,\\u205fwe’re looking for a sign\\nOblivious to changes, grasping at the time\\nNo hope in searching outward, no truth beyond the line\\nMelding at your edges, transmuting lost time\\nStill wherever you go\\nLove will surround you\\nLove will surround you\\nLove will surround you\\nLove will surround you\\nAm I holding you up?\\nA block in the road, no effort to sinking\\nLife’s always telling you to go\\n\\'Cause we’re just waiting on a signal, we’re looking for a sign\\nOblivious to changes, grasping at the time\\nNo hope in searching outward, no truth beyond the line\\nMelding at your edges, transmuting lost time\\nBut still wherever you go\\nLove will surround you\\nLove will surround you\\nSo let me go if you wanna\\nDon’t let me know that I’m lost \\'cause I just wanna feel wanted\\nNo revolution, no blood, blood, blood, blood\\nSo rushing in and rushing out again\\nAnother martyr, I know\\nSo you can wake up and start again\\nFrom stardust to gold\\nMaybe in another man\\'s life\\nOn another man\\'s time\\nMaybe the time just not right for us\\nMaybe this is all that we are, are\\nThe lives I\\'ve loved\\nToo close to know\\nThe hindsight song\\nThere\\'s no way I\\'d rather wait than know\\nThe highs we trade for the lows\\nJust gotta wake up and start again\\n\\'Cause this is no place like home\\nAnd if you could\\'ve stayed there you would\\'ve\\nCould\\'ve, should\\'ve\\nAnother life I loved\\nMaybe the time will be right for us\\nIf this is all that we\\'ve got, I got\\nThe lives I\\'ve loved\\nAnd too close to know\\nChasing, but at what cost?\\nJust \\'cause there\\'s no way I\\'d rather wait than know\\nI know it hurts sometimes\\nBut you\\'ll get over it\\nYou\\'ll find another life to live\\nI know you\\'ll get over it\\nI know you\\'re sad and tired\\nYou\\'ve got nothing left to give\\nBut you\\'ll find another life to live\\nI know you\\'ll get over it\\nSo when you\\'re caught in a landslide\\nI\\'ll be there for you, I\\'ll be there for you\\nAnd in the rain, give you sunshine\\nI\\'ll be there for you, I\\'ll be there for you\\nAnd every time that you\\'re lonely\\nAnd every time that you\\'re feeling low, you should know\\nI\\'ll be there for you, I\\'ll be there for you\\nI\\'ll be there for you, you know\\nI know your hope is heavy\\nBut you\\'ll get over it\\nYou\\'ll find another life to live\\nI know you\\'ll get over it\\nAnd I know you feel like everything\\nIs falling to the wind\\nBut don\\'t you let the thunder in\\n\\'Cause I know you\\'ll get over it\\nSo when you\\'re caught in a landslide\\nI\\'ll be there for you, I\\'ll be there for you\\nAnd in the rain, give you sunshine\\nI\\'ll be there for you, I\\'ll be there for you\\nAnd every time that you\\'re lonely\\nAnd every time that you\\'re feeling low, you should know\\nI\\'ll be there for you, I\\'ll be there for you\\nI\\'ll be there for you, you know\\nYou fell down by the wayside\\nLove locked in an overflow\\nAnd you threw stones at the starlight\\n\\'Cause I stood on the sidelines telling you\\nThat I get that you\\'re lonely\\nAnd I see that you feel alone\\nBut I heard in a heartbeat\\nI\\'ll be there for you, you know\\nSo when you\\'re caught in a landslide\\nI\\'ll be there for you, I\\'ll be there for you\\nAnd in the rain, give you sunshine\\nI\\'ll be there for you, I\\'ll be there for you\\nAnd every time that you\\'re lonely\\nAnd every time that you\\'re feeling low, you should know\\nI\\'ll be there for you, I\\'ll be there for you\\nI\\'ll be there for you, you know\\nI\\'ll be there for you, I\\'ll be there for you\\nI\\'ll be there for you, you know\\nI\\'ll be there for you, I\\'ll be there for you\\nI\\'ll be there for you, you know\\nI\\'ll be there for you, I\\'ll be there for you\\nI\\'ll be there for you, you know\\nAnd every time that you\\'re lonely\\nAnd every time that you\\'re feeling low, you should know\\nI\\'ll be there for you, I\\'ll be there for you\\nI\\'ll be there for you, you know\\nStep out into the sun\\nSkies above they radiate me\\nLift up, carry the love\\nDo you know?\\nThat I\\'ve been out of my mind\\nThis slow life I\\'m waiting for you\\nTo swing me all of your line\\nDo you know?\\nSince I\\'ve been walking solo\\nDreaming you were back home\\nHi-fi getting down low\\nHide until tomorrow\\nCome back into the good life\\nLose these hazy love lies\\nI\\'ve been chasing my mind\\nLonely in the cold nights\\n\\'Cause I\\'m kicking up stones without you\\nCan\\'t pick up the phone without you\\nI\\'m a little bit lost without you\\nWithout you\\nAnd I\\'m digging down holes without you\\nCan\\'t be on my own without you\\nI\\'m a little bit lost without you\\nWithout you\\nStep out into the dark\\nWhere were you when I was trying\\nTo lift up, carry the love?\\nDo you know?\\nThat I\\'ve been closing my eyes\\nLove me slow, hallucinating\\nSwinging me all of your light\\nDo you know?\\nSince I\\'ve been walking solo\\nDreaming you were back home\\nHi-fi find getting down low\\nHide until tomorrow\\nCome back into the good life\\nLose these hazy love lies\\nI\\'ve been chasing my mind\\nLonely in the cold nights\\n\\'Cause I\\'m kicking up stones without you\\nCan\\'t pick up the phone without you\\nI\\'m a little bit lost without you\\nWithout you\\nAnd I\\'m digging down holes without you\\nCan\\'t be on my own without you\\nI\\'m a little bit lost without you\\nWithout you, oh\\nHold me close when it\\'s over\\nLife goes slow loving sober\\nFeel my bones getting older\\nSadness grows when you\\'re cold\\n\\'Cause I am one step heavy and two steps high\\nHold it steady with you by my side\\nOne step heavy and two steps high\\nTwo steps high\\n\\'Cause I\\'m kicking up stones without you\\nCan\\'t pick up the phone without you\\nI\\'m a little bit lost without you\\nAnd I\\'m digging down holes without you\\nCan\\'t be on my own without you\\nI\\'m a little bit lost without you\\nWithout you\\nWithout you\\nWithout you\\nI\\'m a little bit lost without you\\nWithout you\\nAnd I\\'m digging down holes without you\\nCan\\'t be on my own without you\\nI\\'m a little bit lost without you\\nWithout you\\n'"
            ],
            "application/vnd.google.colaboratory.intrinsic+json": {
              "type": "string"
            }
          },
          "metadata": {},
          "execution_count": 88
        }
      ]
    },
    {
      "cell_type": "markdown",
      "source": [
        "Dont use\n"
      ],
      "metadata": {
        "id": "Wk01bvH_NYMp"
      }
    },
    {
      "cell_type": "code",
      "source": [
        "poems=\"\"\n",
        "for i in stdf[:200]:\n",
        "  poems+=i\n",
        "  poems+=\"\\n\"\n",
        "poems=poems[:-1]\n",
        "\n",
        "print(poems)"
      ],
      "metadata": {
        "id": "BdfWckO6PYWG"
      },
      "execution_count": null,
      "outputs": []
    },
    {
      "cell_type": "markdown",
      "source": [
        "--Padding and turning data into tensors--"
      ],
      "metadata": {
        "id": "b6xGSVoveDLp"
      }
    },
    {
      "cell_type": "code",
      "source": [
        "df = pd.read_csv('Conversation.csv')\n",
        "\n",
        "temp1 = df['question'].tolist()\n",
        "temp2 = df['answer'].tolist()\n",
        "\n",
        "def format(x):\n",
        "  y=enc.encode(x)\n",
        "  return y\n",
        "\n",
        "qT = list(map(format, temp1))\n",
        "aT = list(map(format, temp2))\n",
        "\n",
        "for i in range(0,len(qT)):\n",
        "  if len(qT[i])<25:\n",
        "    while len(qT[i])<25:\n",
        "      qT[i].append(482)\n",
        "\n",
        "\n",
        "for i in range(0,len(aT)):\n",
        "  if len(aT[i])<25:\n",
        "    while len(aT[i])<25:\n",
        "      aT[i].append(482)\n",
        "\n",
        "lists = [qT,aT]\n",
        "data = [val for tup in zip(*lists) for val in tup]\n",
        "\n",
        "\n",
        "\n",
        "\n",
        "\n"
      ],
      "metadata": {
        "id": "4YPYs4MvYViI"
      },
      "execution_count": null,
      "outputs": []
    },
    {
      "cell_type": "markdown",
      "source": [
        "use\n"
      ],
      "metadata": {
        "id": "7Nv22FhyNaE-"
      }
    },
    {
      "cell_type": "code",
      "source": [
        "tokenizer = Tokenizer()\n",
        "corpus = dat.lower().split('\\n')\n",
        "tokenizer.fit_on_texts(corpus)\n",
        "total_words = len(tokenizer.word_index)+1\n",
        "\n"
      ],
      "metadata": {
        "id": "lB1m7v0DNZlW"
      },
      "execution_count": 91,
      "outputs": []
    },
    {
      "cell_type": "code",
      "source": [
        "input_sequences = []\n",
        "\n",
        "for line in corpus:\n",
        "  token_list = tokenizer.texts_to_sequences([line])[0]\n",
        "  for i in range(1, len(token_list)):\n",
        "    n_gram_sequence = token_list[:i+1]\n",
        "    input_sequences.append(n_gram_sequence)"
      ],
      "metadata": {
        "id": "XrtbwTlLQLiv"
      },
      "execution_count": 92,
      "outputs": []
    },
    {
      "cell_type": "code",
      "source": [
        "max_sequence_len = max([len(x) for x in input_sequences])\n",
        "\n",
        "input_sequences = np.array(pad_sequences(input_sequences, maxlen=max_sequence_len, padding = 'pre'))\n",
        "\n"
      ],
      "metadata": {
        "id": "zmXTPPjkNPpk"
      },
      "execution_count": 94,
      "outputs": []
    },
    {
      "cell_type": "code",
      "source": [
        "xs = input_sequences[:,:-1]\n",
        "labels = input_sequences[:,-1]"
      ],
      "metadata": {
        "id": "fz6Nfpa3da4q"
      },
      "execution_count": 95,
      "outputs": []
    },
    {
      "cell_type": "code",
      "source": [
        "ys = tf.keras.utils.to_categorical(labels, num_classes=total_words)\n"
      ],
      "metadata": {
        "id": "tqQon1ys-ZJd"
      },
      "execution_count": 96,
      "outputs": []
    },
    {
      "cell_type": "markdown",
      "source": [
        "For training a new model"
      ],
      "metadata": {
        "id": "zbd5xi6mYI63"
      }
    },
    {
      "cell_type": "code",
      "source": [
        "model = Sequential()\n",
        "\n",
        "model.add(Embedding(total_words,240,input_length=max_sequence_len-1))\n",
        "model.add(Bidirectional(LSTM(150)))\n",
        "model.add(Dense(total_words, activation='softmax'))\n",
        "adam = Adam(learning_rate=0.01)\n",
        "\n",
        "model.compile(loss = 'categorical_crossentropy',optimizer = adam, metrics = ['accuracy'])\n",
        "history = model.fit(xs,ys,epochs=200, verbose = 1)\n",
        "\n",
        "print(model)"
      ],
      "metadata": {
        "colab": {
          "base_uri": "https://localhost:8080/"
        },
        "id": "xQmFI460RxRk",
        "outputId": "a374b756-a3ce-4528-b384-f61cbb8b6512"
      },
      "execution_count": 99,
      "outputs": [
        {
          "output_type": "stream",
          "name": "stdout",
          "text": [
            "Epoch 1/200\n",
            "236/236 [==============================] - 19s 61ms/step - loss: 6.1402 - accuracy: 0.0720\n",
            "Epoch 2/200\n",
            "236/236 [==============================] - 3s 14ms/step - loss: 4.8116 - accuracy: 0.1854\n",
            "Epoch 3/200\n",
            "236/236 [==============================] - 2s 10ms/step - loss: 3.6801 - accuracy: 0.2953\n",
            "Epoch 4/200\n",
            "236/236 [==============================] - 2s 9ms/step - loss: 2.7455 - accuracy: 0.4057\n",
            "Epoch 5/200\n",
            "236/236 [==============================] - 2s 10ms/step - loss: 2.0312 - accuracy: 0.5291\n",
            "Epoch 6/200\n",
            "236/236 [==============================] - 2s 10ms/step - loss: 1.5486 - accuracy: 0.6326\n",
            "Epoch 7/200\n",
            "236/236 [==============================] - 4s 16ms/step - loss: 1.2578 - accuracy: 0.6951\n",
            "Epoch 8/200\n",
            "236/236 [==============================] - 2s 10ms/step - loss: 1.0604 - accuracy: 0.7379\n",
            "Epoch 9/200\n",
            "236/236 [==============================] - 2s 8ms/step - loss: 0.9320 - accuracy: 0.7695\n",
            "Epoch 10/200\n",
            "236/236 [==============================] - 2s 9ms/step - loss: 0.8525 - accuracy: 0.7860\n",
            "Epoch 11/200\n",
            "236/236 [==============================] - 3s 12ms/step - loss: 0.8185 - accuracy: 0.7972\n",
            "Epoch 12/200\n",
            "236/236 [==============================] - 2s 8ms/step - loss: 0.7958 - accuracy: 0.8017\n",
            "Epoch 13/200\n",
            "236/236 [==============================] - 2s 10ms/step - loss: 0.8295 - accuracy: 0.7871\n",
            "Epoch 14/200\n",
            "236/236 [==============================] - 2s 10ms/step - loss: 0.9848 - accuracy: 0.7459\n",
            "Epoch 15/200\n",
            "236/236 [==============================] - 2s 7ms/step - loss: 1.3725 - accuracy: 0.6498\n",
            "Epoch 16/200\n",
            "236/236 [==============================] - 2s 8ms/step - loss: 1.6838 - accuracy: 0.5848\n",
            "Epoch 17/200\n",
            "236/236 [==============================] - 2s 8ms/step - loss: 1.3000 - accuracy: 0.6678\n",
            "Epoch 18/200\n",
            "236/236 [==============================] - 2s 8ms/step - loss: 0.9761 - accuracy: 0.7468\n",
            "Epoch 19/200\n",
            "236/236 [==============================] - 2s 9ms/step - loss: 0.7842 - accuracy: 0.7993\n",
            "Epoch 20/200\n",
            "236/236 [==============================] - 2s 10ms/step - loss: 0.6894 - accuracy: 0.8181\n",
            "Epoch 21/200\n",
            "236/236 [==============================] - 2s 10ms/step - loss: 0.6443 - accuracy: 0.8318\n",
            "Epoch 22/200\n",
            "236/236 [==============================] - 2s 8ms/step - loss: 0.6182 - accuracy: 0.8334\n",
            "Epoch 23/200\n",
            "236/236 [==============================] - 2s 7ms/step - loss: 0.5956 - accuracy: 0.8381\n",
            "Epoch 24/200\n",
            "236/236 [==============================] - 2s 10ms/step - loss: 0.5860 - accuracy: 0.8421\n",
            "Epoch 25/200\n",
            "236/236 [==============================] - 2s 10ms/step - loss: 0.5888 - accuracy: 0.8393\n",
            "Epoch 26/200\n",
            "236/236 [==============================] - 2s 10ms/step - loss: 0.5831 - accuracy: 0.8381\n",
            "Epoch 27/200\n",
            "236/236 [==============================] - 3s 11ms/step - loss: 0.5814 - accuracy: 0.8398\n",
            "Epoch 28/200\n",
            "236/236 [==============================] - 2s 8ms/step - loss: 0.5958 - accuracy: 0.8395\n",
            "Epoch 29/200\n",
            "236/236 [==============================] - 2s 8ms/step - loss: 0.6421 - accuracy: 0.8304\n",
            "Epoch 30/200\n",
            "236/236 [==============================] - 2s 7ms/step - loss: 1.6154 - accuracy: 0.6234\n",
            "Epoch 31/200\n",
            "236/236 [==============================] - 2s 7ms/step - loss: 2.7240 - accuracy: 0.4320\n",
            "Epoch 32/200\n",
            "236/236 [==============================] - 2s 7ms/step - loss: 1.7210 - accuracy: 0.5849\n",
            "Epoch 33/200\n",
            "236/236 [==============================] - 2s 10ms/step - loss: 1.3369 - accuracy: 0.6625\n",
            "Epoch 34/200\n",
            "236/236 [==============================] - 2s 10ms/step - loss: 0.9716 - accuracy: 0.7464\n",
            "Epoch 35/200\n",
            "236/236 [==============================] - 2s 7ms/step - loss: 0.7896 - accuracy: 0.7965\n",
            "Epoch 36/200\n",
            "236/236 [==============================] - 2s 9ms/step - loss: 0.7008 - accuracy: 0.8184\n",
            "Epoch 37/200\n",
            "236/236 [==============================] - 2s 8ms/step - loss: 0.6388 - accuracy: 0.8325\n",
            "Epoch 38/200\n",
            "236/236 [==============================] - 2s 7ms/step - loss: 0.6179 - accuracy: 0.8375\n",
            "Epoch 39/200\n",
            "236/236 [==============================] - 2s 7ms/step - loss: 0.6106 - accuracy: 0.8369\n",
            "Epoch 40/200\n",
            "236/236 [==============================] - 2s 10ms/step - loss: 0.5992 - accuracy: 0.8402\n",
            "Epoch 41/200\n",
            "236/236 [==============================] - 3s 11ms/step - loss: 0.5914 - accuracy: 0.8398\n",
            "Epoch 42/200\n",
            "236/236 [==============================] - 2s 7ms/step - loss: 0.6024 - accuracy: 0.8367\n",
            "Epoch 43/200\n",
            "236/236 [==============================] - 2s 7ms/step - loss: 0.5983 - accuracy: 0.8385\n",
            "Epoch 44/200\n",
            "236/236 [==============================] - 2s 7ms/step - loss: 0.6007 - accuracy: 0.8378\n",
            "Epoch 45/200\n",
            "236/236 [==============================] - 2s 8ms/step - loss: 0.6145 - accuracy: 0.8337\n",
            "Epoch 46/200\n",
            "236/236 [==============================] - 2s 9ms/step - loss: 0.7811 - accuracy: 0.7977\n",
            "Epoch 47/200\n",
            "236/236 [==============================] - 3s 14ms/step - loss: 2.1911 - accuracy: 0.5235\n",
            "Epoch 48/200\n",
            "236/236 [==============================] - 2s 8ms/step - loss: 2.1947 - accuracy: 0.5194\n",
            "Epoch 49/200\n",
            "236/236 [==============================] - 2s 8ms/step - loss: 1.4711 - accuracy: 0.6444\n",
            "Epoch 50/200\n",
            "236/236 [==============================] - 2s 7ms/step - loss: 1.0946 - accuracy: 0.7220\n",
            "Epoch 51/200\n",
            "236/236 [==============================] - 2s 7ms/step - loss: 0.8831 - accuracy: 0.7800\n",
            "Epoch 52/200\n",
            "236/236 [==============================] - 2s 7ms/step - loss: 0.7742 - accuracy: 0.8075\n",
            "Epoch 53/200\n",
            "236/236 [==============================] - 2s 8ms/step - loss: 0.6991 - accuracy: 0.8233\n",
            "Epoch 54/200\n",
            "236/236 [==============================] - 2s 11ms/step - loss: 0.6579 - accuracy: 0.8334\n",
            "Epoch 55/200\n",
            "236/236 [==============================] - 2s 9ms/step - loss: 0.6445 - accuracy: 0.8379\n",
            "Epoch 56/200\n",
            "236/236 [==============================] - 2s 8ms/step - loss: 0.6422 - accuracy: 0.8369\n",
            "Epoch 57/200\n",
            "236/236 [==============================] - 2s 8ms/step - loss: 0.6352 - accuracy: 0.8357\n",
            "Epoch 58/200\n",
            "236/236 [==============================] - 2s 7ms/step - loss: 0.6507 - accuracy: 0.8340\n",
            "Epoch 59/200\n",
            "236/236 [==============================] - 2s 7ms/step - loss: 0.6368 - accuracy: 0.8369\n",
            "Epoch 60/200\n",
            "236/236 [==============================] - 2s 9ms/step - loss: 0.6515 - accuracy: 0.8367\n",
            "Epoch 61/200\n",
            "236/236 [==============================] - 3s 11ms/step - loss: 0.6609 - accuracy: 0.8329\n",
            "Epoch 62/200\n",
            "236/236 [==============================] - 2s 9ms/step - loss: 0.7138 - accuracy: 0.8199\n",
            "Epoch 63/200\n",
            "236/236 [==============================] - 2s 8ms/step - loss: 1.2238 - accuracy: 0.7035\n",
            "Epoch 64/200\n",
            "236/236 [==============================] - 2s 8ms/step - loss: 2.0300 - accuracy: 0.5549\n",
            "Epoch 65/200\n",
            "236/236 [==============================] - 2s 7ms/step - loss: 1.5953 - accuracy: 0.6205\n",
            "Epoch 66/200\n",
            "236/236 [==============================] - 2s 8ms/step - loss: 1.1537 - accuracy: 0.7080\n",
            "Epoch 67/200\n",
            "236/236 [==============================] - 2s 7ms/step - loss: 0.9245 - accuracy: 0.7600\n",
            "Epoch 68/200\n",
            "236/236 [==============================] - 2s 10ms/step - loss: 0.8045 - accuracy: 0.7936\n",
            "Epoch 69/200\n",
            "236/236 [==============================] - 2s 9ms/step - loss: 0.7274 - accuracy: 0.8148\n",
            "Epoch 70/200\n",
            "236/236 [==============================] - 2s 8ms/step - loss: 0.6951 - accuracy: 0.8266\n",
            "Epoch 71/200\n",
            "236/236 [==============================] - 2s 8ms/step - loss: 0.6800 - accuracy: 0.8308\n",
            "Epoch 72/200\n",
            "236/236 [==============================] - 2s 8ms/step - loss: 0.6646 - accuracy: 0.8312\n",
            "Epoch 73/200\n",
            "236/236 [==============================] - 2s 8ms/step - loss: 0.6669 - accuracy: 0.8288\n",
            "Epoch 74/200\n",
            "236/236 [==============================] - 2s 8ms/step - loss: 0.6473 - accuracy: 0.8332\n",
            "Epoch 75/200\n",
            "236/236 [==============================] - 3s 12ms/step - loss: 0.6515 - accuracy: 0.8354\n",
            "Epoch 76/200\n",
            "236/236 [==============================] - 2s 9ms/step - loss: 0.6508 - accuracy: 0.8358\n",
            "Epoch 77/200\n",
            "236/236 [==============================] - 2s 8ms/step - loss: 0.6902 - accuracy: 0.8288\n",
            "Epoch 78/200\n",
            "236/236 [==============================] - 2s 8ms/step - loss: 0.7485 - accuracy: 0.8203\n",
            "Epoch 79/200\n",
            "236/236 [==============================] - 2s 7ms/step - loss: 0.9305 - accuracy: 0.7634\n",
            "Epoch 80/200\n",
            "236/236 [==============================] - 2s 8ms/step - loss: 1.3571 - accuracy: 0.6718\n",
            "Epoch 81/200\n",
            "236/236 [==============================] - 2s 8ms/step - loss: 1.5501 - accuracy: 0.6366\n",
            "Epoch 82/200\n",
            "236/236 [==============================] - 2s 10ms/step - loss: 1.2648 - accuracy: 0.6910\n",
            "Epoch 83/200\n",
            "236/236 [==============================] - 2s 9ms/step - loss: 1.0206 - accuracy: 0.7473\n",
            "Epoch 84/200\n",
            "236/236 [==============================] - 2s 8ms/step - loss: 0.8760 - accuracy: 0.7744\n",
            "Epoch 85/200\n",
            "236/236 [==============================] - 2s 8ms/step - loss: 0.7781 - accuracy: 0.8063\n",
            "Epoch 86/200\n",
            "236/236 [==============================] - 2s 8ms/step - loss: 0.7141 - accuracy: 0.8221\n",
            "Epoch 87/200\n",
            "236/236 [==============================] - 2s 8ms/step - loss: 0.6779 - accuracy: 0.8309\n",
            "Epoch 88/200\n",
            "236/236 [==============================] - 2s 8ms/step - loss: 0.6663 - accuracy: 0.8338\n",
            "Epoch 89/200\n",
            "236/236 [==============================] - 2s 10ms/step - loss: 0.6635 - accuracy: 0.8361\n",
            "Epoch 90/200\n",
            "236/236 [==============================] - 2s 9ms/step - loss: 0.6571 - accuracy: 0.8363\n",
            "Epoch 91/200\n",
            "236/236 [==============================] - 2s 8ms/step - loss: 0.6549 - accuracy: 0.8337\n",
            "Epoch 92/200\n",
            "236/236 [==============================] - 2s 8ms/step - loss: 0.6548 - accuracy: 0.8345\n",
            "Epoch 93/200\n",
            "236/236 [==============================] - 2s 8ms/step - loss: 0.6476 - accuracy: 0.8374\n",
            "Epoch 94/200\n",
            "236/236 [==============================] - 2s 7ms/step - loss: 0.6554 - accuracy: 0.8377\n",
            "Epoch 95/200\n",
            "236/236 [==============================] - 2s 8ms/step - loss: 0.6736 - accuracy: 0.8350\n",
            "Epoch 96/200\n",
            "236/236 [==============================] - 2s 10ms/step - loss: 0.6767 - accuracy: 0.8330\n",
            "Epoch 97/200\n",
            "236/236 [==============================] - 2s 9ms/step - loss: 0.9217 - accuracy: 0.7730\n",
            "Epoch 98/200\n",
            "236/236 [==============================] - 2s 8ms/step - loss: 1.7296 - accuracy: 0.6164\n",
            "Epoch 99/200\n",
            "236/236 [==============================] - 2s 7ms/step - loss: 1.6036 - accuracy: 0.6318\n",
            "Epoch 100/200\n",
            "236/236 [==============================] - 2s 7ms/step - loss: 1.3032 - accuracy: 0.6829\n",
            "Epoch 101/200\n",
            "236/236 [==============================] - 2s 7ms/step - loss: 1.0123 - accuracy: 0.7503\n",
            "Epoch 102/200\n",
            "236/236 [==============================] - 2s 7ms/step - loss: 0.8491 - accuracy: 0.7885\n",
            "Epoch 103/200\n",
            "236/236 [==============================] - 2s 10ms/step - loss: 0.7526 - accuracy: 0.8094\n",
            "Epoch 104/200\n",
            "236/236 [==============================] - 2s 10ms/step - loss: 0.7249 - accuracy: 0.8223\n",
            "Epoch 105/200\n",
            "236/236 [==============================] - 2s 7ms/step - loss: 0.6876 - accuracy: 0.8285\n",
            "Epoch 106/200\n",
            "236/236 [==============================] - 2s 7ms/step - loss: 0.6815 - accuracy: 0.8345\n",
            "Epoch 107/200\n",
            "236/236 [==============================] - 2s 7ms/step - loss: 0.6723 - accuracy: 0.8337\n",
            "Epoch 108/200\n",
            "236/236 [==============================] - 2s 7ms/step - loss: 0.6530 - accuracy: 0.8370\n",
            "Epoch 109/200\n",
            "236/236 [==============================] - 2s 7ms/step - loss: 0.6626 - accuracy: 0.8340\n",
            "Epoch 110/200\n",
            "236/236 [==============================] - 2s 9ms/step - loss: 0.6687 - accuracy: 0.8353\n",
            "Epoch 111/200\n",
            "236/236 [==============================] - 3s 11ms/step - loss: 0.6727 - accuracy: 0.8332\n",
            "Epoch 112/200\n",
            "236/236 [==============================] - 2s 8ms/step - loss: 0.6738 - accuracy: 0.8348\n",
            "Epoch 113/200\n",
            "236/236 [==============================] - 2s 7ms/step - loss: 0.6690 - accuracy: 0.8362\n",
            "Epoch 114/200\n",
            "236/236 [==============================] - 2s 7ms/step - loss: 0.6751 - accuracy: 0.8371\n",
            "Epoch 115/200\n",
            "236/236 [==============================] - 2s 7ms/step - loss: 0.6901 - accuracy: 0.8314\n",
            "Epoch 116/200\n",
            "236/236 [==============================] - 2s 7ms/step - loss: 0.8127 - accuracy: 0.8034\n",
            "Epoch 117/200\n",
            "236/236 [==============================] - 2s 9ms/step - loss: 1.4645 - accuracy: 0.6655\n",
            "Epoch 118/200\n",
            "236/236 [==============================] - 2s 10ms/step - loss: 1.6754 - accuracy: 0.6278\n",
            "Epoch 119/200\n",
            "236/236 [==============================] - 2s 8ms/step - loss: 1.3747 - accuracy: 0.6807\n",
            "Epoch 120/200\n",
            "236/236 [==============================] - 2s 7ms/step - loss: 1.0610 - accuracy: 0.7430\n",
            "Epoch 121/200\n",
            "236/236 [==============================] - 2s 7ms/step - loss: 0.8867 - accuracy: 0.7787\n",
            "Epoch 122/200\n",
            "236/236 [==============================] - 2s 8ms/step - loss: 0.8057 - accuracy: 0.8023\n",
            "Epoch 123/200\n",
            "236/236 [==============================] - 2s 7ms/step - loss: 0.7388 - accuracy: 0.8217\n",
            "Epoch 124/200\n",
            "236/236 [==============================] - 2s 8ms/step - loss: 0.6979 - accuracy: 0.8284\n",
            "Epoch 125/200\n",
            "236/236 [==============================] - 2s 11ms/step - loss: 0.6931 - accuracy: 0.8274\n",
            "Epoch 126/200\n",
            "236/236 [==============================] - 2s 9ms/step - loss: 0.6903 - accuracy: 0.8336\n",
            "Epoch 127/200\n",
            "236/236 [==============================] - 2s 7ms/step - loss: 0.6896 - accuracy: 0.8348\n",
            "Epoch 128/200\n",
            "236/236 [==============================] - 2s 7ms/step - loss: 0.6814 - accuracy: 0.8348\n",
            "Epoch 129/200\n",
            "236/236 [==============================] - 2s 8ms/step - loss: 0.6743 - accuracy: 0.8324\n",
            "Epoch 130/200\n",
            "236/236 [==============================] - 2s 7ms/step - loss: 0.6715 - accuracy: 0.8370\n",
            "Epoch 131/200\n",
            "236/236 [==============================] - 2s 7ms/step - loss: 0.6769 - accuracy: 0.8358\n",
            "Epoch 132/200\n",
            "236/236 [==============================] - 2s 10ms/step - loss: 0.6778 - accuracy: 0.8353\n",
            "Epoch 133/200\n",
            "236/236 [==============================] - 3s 11ms/step - loss: 0.6811 - accuracy: 0.8351\n",
            "Epoch 134/200\n",
            "236/236 [==============================] - 2s 8ms/step - loss: 0.7087 - accuracy: 0.8330\n",
            "Epoch 135/200\n",
            "236/236 [==============================] - 3s 11ms/step - loss: 0.7944 - accuracy: 0.8073\n",
            "Epoch 136/200\n",
            "236/236 [==============================] - 2s 9ms/step - loss: 1.1521 - accuracy: 0.7269\n",
            "Epoch 137/200\n",
            "236/236 [==============================] - 2s 8ms/step - loss: 1.5733 - accuracy: 0.6512\n",
            "Epoch 138/200\n",
            "236/236 [==============================] - 2s 9ms/step - loss: 1.3983 - accuracy: 0.6824\n",
            "Epoch 139/200\n",
            "236/236 [==============================] - 3s 11ms/step - loss: 1.1236 - accuracy: 0.7358\n",
            "Epoch 140/200\n",
            "236/236 [==============================] - 2s 8ms/step - loss: 0.9401 - accuracy: 0.7735\n",
            "Epoch 141/200\n",
            "236/236 [==============================] - 2s 8ms/step - loss: 0.8340 - accuracy: 0.7977\n",
            "Epoch 142/200\n",
            "236/236 [==============================] - 2s 7ms/step - loss: 0.7849 - accuracy: 0.8102\n",
            "Epoch 143/200\n",
            "236/236 [==============================] - 2s 7ms/step - loss: 0.7438 - accuracy: 0.8224\n",
            "Epoch 144/200\n",
            "236/236 [==============================] - 2s 7ms/step - loss: 0.7129 - accuracy: 0.8298\n",
            "Epoch 145/200\n",
            "236/236 [==============================] - 2s 8ms/step - loss: 0.7178 - accuracy: 0.8320\n",
            "Epoch 146/200\n",
            "236/236 [==============================] - 3s 11ms/step - loss: 0.7131 - accuracy: 0.8306\n",
            "Epoch 147/200\n",
            "236/236 [==============================] - 2s 8ms/step - loss: 0.7028 - accuracy: 0.8313\n",
            "Epoch 148/200\n",
            "236/236 [==============================] - 2s 8ms/step - loss: 0.7007 - accuracy: 0.8345\n",
            "Epoch 149/200\n",
            "236/236 [==============================] - 2s 7ms/step - loss: 0.6978 - accuracy: 0.8362\n",
            "Epoch 150/200\n",
            "236/236 [==============================] - 2s 7ms/step - loss: 0.7015 - accuracy: 0.8350\n",
            "Epoch 151/200\n",
            "236/236 [==============================] - 2s 8ms/step - loss: 0.7001 - accuracy: 0.8321\n",
            "Epoch 152/200\n",
            "236/236 [==============================] - 2s 8ms/step - loss: 0.7190 - accuracy: 0.8296\n",
            "Epoch 153/200\n",
            "236/236 [==============================] - 2s 10ms/step - loss: 0.7367 - accuracy: 0.8292\n",
            "Epoch 154/200\n",
            "236/236 [==============================] - 2s 9ms/step - loss: 0.7800 - accuracy: 0.8181\n",
            "Epoch 155/200\n",
            "236/236 [==============================] - 2s 8ms/step - loss: 1.0446 - accuracy: 0.7558\n",
            "Epoch 156/200\n",
            "236/236 [==============================] - 2s 8ms/step - loss: 1.2826 - accuracy: 0.7070\n",
            "Epoch 157/200\n",
            "236/236 [==============================] - 2s 8ms/step - loss: 1.2648 - accuracy: 0.7094\n",
            "Epoch 158/200\n",
            "236/236 [==============================] - 2s 7ms/step - loss: 1.1386 - accuracy: 0.7343\n",
            "Epoch 159/200\n",
            "236/236 [==============================] - 2s 8ms/step - loss: 0.9458 - accuracy: 0.7742\n",
            "Epoch 160/200\n",
            "236/236 [==============================] - 2s 10ms/step - loss: 0.8621 - accuracy: 0.7946\n",
            "Epoch 161/200\n",
            "236/236 [==============================] - 2s 9ms/step - loss: 0.7937 - accuracy: 0.8128\n",
            "Epoch 162/200\n",
            "236/236 [==============================] - 2s 8ms/step - loss: 0.7764 - accuracy: 0.8173\n",
            "Epoch 163/200\n",
            "236/236 [==============================] - 2s 8ms/step - loss: 0.7336 - accuracy: 0.8272\n",
            "Epoch 164/200\n",
            "236/236 [==============================] - 2s 7ms/step - loss: 0.7331 - accuracy: 0.8288\n",
            "Epoch 165/200\n",
            "236/236 [==============================] - 2s 7ms/step - loss: 0.7300 - accuracy: 0.8310\n",
            "Epoch 166/200\n",
            "236/236 [==============================] - 2s 7ms/step - loss: 0.7233 - accuracy: 0.8309\n",
            "Epoch 167/200\n",
            "236/236 [==============================] - 2s 10ms/step - loss: 0.7128 - accuracy: 0.8340\n",
            "Epoch 168/200\n",
            "236/236 [==============================] - 2s 10ms/step - loss: 0.7220 - accuracy: 0.8344\n",
            "Epoch 169/200\n",
            "236/236 [==============================] - 2s 8ms/step - loss: 0.7141 - accuracy: 0.8324\n",
            "Epoch 170/200\n",
            "236/236 [==============================] - 2s 8ms/step - loss: 0.7084 - accuracy: 0.8341\n",
            "Epoch 171/200\n",
            "236/236 [==============================] - 2s 7ms/step - loss: 0.7006 - accuracy: 0.8344\n",
            "Epoch 172/200\n",
            "236/236 [==============================] - 2s 7ms/step - loss: 0.6933 - accuracy: 0.8353\n",
            "Epoch 173/200\n",
            "236/236 [==============================] - 2s 7ms/step - loss: 0.7154 - accuracy: 0.8338\n",
            "Epoch 174/200\n",
            "236/236 [==============================] - 2s 9ms/step - loss: 0.7535 - accuracy: 0.8236\n",
            "Epoch 175/200\n",
            "236/236 [==============================] - 3s 11ms/step - loss: 1.0610 - accuracy: 0.7616\n",
            "Epoch 176/200\n",
            "236/236 [==============================] - 2s 8ms/step - loss: 1.3968 - accuracy: 0.6927\n",
            "Epoch 177/200\n",
            "236/236 [==============================] - 2s 7ms/step - loss: 1.3409 - accuracy: 0.6946\n",
            "Epoch 178/200\n",
            "236/236 [==============================] - 2s 7ms/step - loss: 1.1152 - accuracy: 0.7392\n",
            "Epoch 179/200\n",
            "236/236 [==============================] - 2s 8ms/step - loss: 0.9443 - accuracy: 0.7748\n",
            "Epoch 180/200\n",
            "236/236 [==============================] - 2s 7ms/step - loss: 0.8255 - accuracy: 0.8018\n",
            "Epoch 181/200\n",
            "236/236 [==============================] - 2s 9ms/step - loss: 0.7722 - accuracy: 0.8173\n",
            "Epoch 182/200\n",
            "236/236 [==============================] - 2s 10ms/step - loss: 0.7424 - accuracy: 0.8241\n",
            "Epoch 183/200\n",
            "236/236 [==============================] - 2s 8ms/step - loss: 0.7162 - accuracy: 0.8296\n",
            "Epoch 184/200\n",
            "236/236 [==============================] - 2s 7ms/step - loss: 0.7124 - accuracy: 0.8340\n",
            "Epoch 185/200\n",
            "236/236 [==============================] - 2s 8ms/step - loss: 0.7060 - accuracy: 0.8351\n",
            "Epoch 186/200\n",
            "236/236 [==============================] - 2s 8ms/step - loss: 0.7057 - accuracy: 0.8341\n",
            "Epoch 187/200\n",
            "236/236 [==============================] - 2s 7ms/step - loss: 0.7122 - accuracy: 0.8342\n",
            "Epoch 188/200\n",
            "236/236 [==============================] - 2s 8ms/step - loss: 0.7050 - accuracy: 0.8362\n",
            "Epoch 189/200\n",
            "236/236 [==============================] - 3s 11ms/step - loss: 0.7115 - accuracy: 0.8338\n",
            "Epoch 190/200\n",
            "236/236 [==============================] - 2s 9ms/step - loss: 0.7127 - accuracy: 0.8354\n",
            "Epoch 191/200\n",
            "236/236 [==============================] - 2s 7ms/step - loss: 0.7293 - accuracy: 0.8340\n",
            "Epoch 192/200\n",
            "236/236 [==============================] - 2s 7ms/step - loss: 0.7430 - accuracy: 0.8313\n",
            "Epoch 193/200\n",
            "236/236 [==============================] - 2s 7ms/step - loss: 0.8146 - accuracy: 0.8088\n",
            "Epoch 194/200\n",
            "236/236 [==============================] - 2s 7ms/step - loss: 0.9796 - accuracy: 0.7667\n",
            "Epoch 195/200\n",
            "236/236 [==============================] - 2s 7ms/step - loss: 1.1524 - accuracy: 0.7387\n",
            "Epoch 196/200\n",
            "236/236 [==============================] - 2s 10ms/step - loss: 1.0904 - accuracy: 0.7456\n",
            "Epoch 197/200\n",
            "236/236 [==============================] - 2s 10ms/step - loss: 0.9280 - accuracy: 0.7767\n",
            "Epoch 198/200\n",
            "236/236 [==============================] - 2s 8ms/step - loss: 0.8767 - accuracy: 0.7912\n",
            "Epoch 199/200\n",
            "236/236 [==============================] - 2s 7ms/step - loss: 0.7799 - accuracy: 0.8128\n",
            "Epoch 200/200\n",
            "236/236 [==============================] - 2s 7ms/step - loss: 0.7525 - accuracy: 0.8215\n",
            "<keras.engine.sequential.Sequential object at 0x7a0b782cf5b0>\n"
          ]
        }
      ]
    },
    {
      "cell_type": "markdown",
      "source": [
        "For adding more data to a pre existing model WIP"
      ],
      "metadata": {
        "id": "u3IF5ljaYNmM"
      }
    },
    {
      "cell_type": "code",
      "source": [
        "from keras.models import load_model\n",
        "model = load_model('poet.keras')\n",
        "\n",
        "print(model)\n",
        "model.add(Dense(total_words, activation='softmax'))\n",
        "adam = Adam(learning_rate=0.01)\n",
        "model.compile(loss = 'categorical_crossentropy',optimizer = adam, metrics = ['accuracy'])\n",
        "history = model.fit(xs,ys,epochs=100, verbose = 1)\n"
      ],
      "metadata": {
        "colab": {
          "base_uri": "https://localhost:8080/",
          "height": 789
        },
        "id": "HR2DS2uXYNCY",
        "outputId": "c87f060f-d626-47fe-f198-34e92b54ce1b"
      },
      "execution_count": 86,
      "outputs": [
        {
          "output_type": "stream",
          "name": "stdout",
          "text": [
            "<keras.engine.sequential.Sequential object at 0x7a0bcc18dc30>\n",
            "Epoch 1/100\n"
          ]
        },
        {
          "output_type": "error",
          "ename": "ValueError",
          "evalue": "ignored",
          "traceback": [
            "\u001b[0;31m---------------------------------------------------------------------------\u001b[0m",
            "\u001b[0;31mValueError\u001b[0m                                Traceback (most recent call last)",
            "\u001b[0;32m<ipython-input-86-e83fa1e296c2>\u001b[0m in \u001b[0;36m<cell line: 7>\u001b[0;34m()\u001b[0m\n\u001b[1;32m      5\u001b[0m \u001b[0madam\u001b[0m \u001b[0;34m=\u001b[0m \u001b[0mAdam\u001b[0m\u001b[0;34m(\u001b[0m\u001b[0mlearning_rate\u001b[0m\u001b[0;34m=\u001b[0m\u001b[0;36m0.01\u001b[0m\u001b[0;34m)\u001b[0m\u001b[0;34m\u001b[0m\u001b[0;34m\u001b[0m\u001b[0m\n\u001b[1;32m      6\u001b[0m \u001b[0mmodel\u001b[0m\u001b[0;34m.\u001b[0m\u001b[0mcompile\u001b[0m\u001b[0;34m(\u001b[0m\u001b[0mloss\u001b[0m \u001b[0;34m=\u001b[0m \u001b[0;34m'categorical_crossentropy'\u001b[0m\u001b[0;34m,\u001b[0m\u001b[0moptimizer\u001b[0m \u001b[0;34m=\u001b[0m \u001b[0madam\u001b[0m\u001b[0;34m,\u001b[0m \u001b[0mmetrics\u001b[0m \u001b[0;34m=\u001b[0m \u001b[0;34m[\u001b[0m\u001b[0;34m'accuracy'\u001b[0m\u001b[0;34m]\u001b[0m\u001b[0;34m)\u001b[0m\u001b[0;34m\u001b[0m\u001b[0;34m\u001b[0m\u001b[0m\n\u001b[0;32m----> 7\u001b[0;31m \u001b[0mhistory\u001b[0m \u001b[0;34m=\u001b[0m \u001b[0mmodel\u001b[0m\u001b[0;34m.\u001b[0m\u001b[0mfit\u001b[0m\u001b[0;34m(\u001b[0m\u001b[0mxs\u001b[0m\u001b[0;34m,\u001b[0m\u001b[0mys\u001b[0m\u001b[0;34m,\u001b[0m\u001b[0mepochs\u001b[0m\u001b[0;34m=\u001b[0m\u001b[0;36m100\u001b[0m\u001b[0;34m,\u001b[0m \u001b[0mverbose\u001b[0m \u001b[0;34m=\u001b[0m \u001b[0;36m1\u001b[0m\u001b[0;34m)\u001b[0m\u001b[0;34m\u001b[0m\u001b[0;34m\u001b[0m\u001b[0m\n\u001b[0m",
            "\u001b[0;32m/usr/local/lib/python3.10/dist-packages/keras/utils/traceback_utils.py\u001b[0m in \u001b[0;36merror_handler\u001b[0;34m(*args, **kwargs)\u001b[0m\n\u001b[1;32m     68\u001b[0m             \u001b[0;31m# To get the full stack trace, call:\u001b[0m\u001b[0;34m\u001b[0m\u001b[0;34m\u001b[0m\u001b[0m\n\u001b[1;32m     69\u001b[0m             \u001b[0;31m# `tf.debugging.disable_traceback_filtering()`\u001b[0m\u001b[0;34m\u001b[0m\u001b[0;34m\u001b[0m\u001b[0m\n\u001b[0;32m---> 70\u001b[0;31m             \u001b[0;32mraise\u001b[0m \u001b[0me\u001b[0m\u001b[0;34m.\u001b[0m\u001b[0mwith_traceback\u001b[0m\u001b[0;34m(\u001b[0m\u001b[0mfiltered_tb\u001b[0m\u001b[0;34m)\u001b[0m \u001b[0;32mfrom\u001b[0m \u001b[0;32mNone\u001b[0m\u001b[0;34m\u001b[0m\u001b[0;34m\u001b[0m\u001b[0m\n\u001b[0m\u001b[1;32m     71\u001b[0m         \u001b[0;32mfinally\u001b[0m\u001b[0;34m:\u001b[0m\u001b[0;34m\u001b[0m\u001b[0;34m\u001b[0m\u001b[0m\n\u001b[1;32m     72\u001b[0m             \u001b[0;32mdel\u001b[0m \u001b[0mfiltered_tb\u001b[0m\u001b[0;34m\u001b[0m\u001b[0;34m\u001b[0m\u001b[0m\n",
            "\u001b[0;32m/usr/local/lib/python3.10/dist-packages/keras/engine/training.py\u001b[0m in \u001b[0;36mtf__train_function\u001b[0;34m(iterator)\u001b[0m\n\u001b[1;32m     13\u001b[0m                 \u001b[0;32mtry\u001b[0m\u001b[0;34m:\u001b[0m\u001b[0;34m\u001b[0m\u001b[0;34m\u001b[0m\u001b[0m\n\u001b[1;32m     14\u001b[0m                     \u001b[0mdo_return\u001b[0m \u001b[0;34m=\u001b[0m \u001b[0;32mTrue\u001b[0m\u001b[0;34m\u001b[0m\u001b[0;34m\u001b[0m\u001b[0m\n\u001b[0;32m---> 15\u001b[0;31m                     \u001b[0mretval_\u001b[0m \u001b[0;34m=\u001b[0m \u001b[0mag__\u001b[0m\u001b[0;34m.\u001b[0m\u001b[0mconverted_call\u001b[0m\u001b[0;34m(\u001b[0m\u001b[0mag__\u001b[0m\u001b[0;34m.\u001b[0m\u001b[0mld\u001b[0m\u001b[0;34m(\u001b[0m\u001b[0mstep_function\u001b[0m\u001b[0;34m)\u001b[0m\u001b[0;34m,\u001b[0m \u001b[0;34m(\u001b[0m\u001b[0mag__\u001b[0m\u001b[0;34m.\u001b[0m\u001b[0mld\u001b[0m\u001b[0;34m(\u001b[0m\u001b[0mself\u001b[0m\u001b[0;34m)\u001b[0m\u001b[0;34m,\u001b[0m \u001b[0mag__\u001b[0m\u001b[0;34m.\u001b[0m\u001b[0mld\u001b[0m\u001b[0;34m(\u001b[0m\u001b[0miterator\u001b[0m\u001b[0;34m)\u001b[0m\u001b[0;34m)\u001b[0m\u001b[0;34m,\u001b[0m \u001b[0;32mNone\u001b[0m\u001b[0;34m,\u001b[0m \u001b[0mfscope\u001b[0m\u001b[0;34m)\u001b[0m\u001b[0;34m\u001b[0m\u001b[0;34m\u001b[0m\u001b[0m\n\u001b[0m\u001b[1;32m     16\u001b[0m                 \u001b[0;32mexcept\u001b[0m\u001b[0;34m:\u001b[0m\u001b[0;34m\u001b[0m\u001b[0;34m\u001b[0m\u001b[0m\n\u001b[1;32m     17\u001b[0m                     \u001b[0mdo_return\u001b[0m \u001b[0;34m=\u001b[0m \u001b[0;32mFalse\u001b[0m\u001b[0;34m\u001b[0m\u001b[0;34m\u001b[0m\u001b[0m\n",
            "\u001b[0;31mValueError\u001b[0m: in user code:\n\n    File \"/usr/local/lib/python3.10/dist-packages/keras/engine/training.py\", line 1284, in train_function  *\n        return step_function(self, iterator)\n    File \"/usr/local/lib/python3.10/dist-packages/keras/engine/training.py\", line 1268, in step_function  **\n        outputs = model.distribute_strategy.run(run_step, args=(data,))\n    File \"/usr/local/lib/python3.10/dist-packages/keras/engine/training.py\", line 1249, in run_step  **\n        outputs = model.train_step(data)\n    File \"/usr/local/lib/python3.10/dist-packages/keras/engine/training.py\", line 1051, in train_step\n        loss = self.compute_loss(x, y, y_pred, sample_weight)\n    File \"/usr/local/lib/python3.10/dist-packages/keras/engine/training.py\", line 1109, in compute_loss\n        return self.compiled_loss(\n    File \"/usr/local/lib/python3.10/dist-packages/keras/engine/compile_utils.py\", line 265, in __call__\n        loss_value = loss_obj(y_t, y_p, sample_weight=sw)\n    File \"/usr/local/lib/python3.10/dist-packages/keras/losses.py\", line 142, in __call__\n        losses = call_fn(y_true, y_pred)\n    File \"/usr/local/lib/python3.10/dist-packages/keras/losses.py\", line 268, in call  **\n        return ag_fn(y_true, y_pred, **self._fn_kwargs)\n    File \"/usr/local/lib/python3.10/dist-packages/keras/losses.py\", line 1984, in categorical_crossentropy\n        return backend.categorical_crossentropy(\n    File \"/usr/local/lib/python3.10/dist-packages/keras/backend.py\", line 5559, in categorical_crossentropy\n        target.shape.assert_is_compatible_with(output.shape)\n\n    ValueError: Shapes (None, 595) and (None, 1369) are incompatible\n"
          ]
        }
      ]
    },
    {
      "cell_type": "code",
      "source": [
        "model.summary()"
      ],
      "metadata": {
        "colab": {
          "base_uri": "https://localhost:8080/"
        },
        "id": "78UQrjCqjq1M",
        "outputId": "6fcd1eed-6a7f-4cea-cc63-db753cccfbec"
      },
      "execution_count": 83,
      "outputs": [
        {
          "output_type": "stream",
          "name": "stdout",
          "text": [
            "Model: \"sequential\"\n",
            "_________________________________________________________________\n",
            " Layer (type)                Output Shape              Param #   \n",
            "=================================================================\n",
            " embedding (Embedding)       (None, 17, 240)           328560    \n",
            "                                                                 \n",
            " bidirectional (Bidirectiona  (None, 300)              469200    \n",
            " l)                                                              \n",
            "                                                                 \n",
            " dense (Dense)               (None, 1369)              412069    \n",
            "                                                                 \n",
            " dense_4 (Dense)             (None, 595)               815150    \n",
            "                                                                 \n",
            "=================================================================\n",
            "Total params: 2,024,979\n",
            "Trainable params: 2,024,979\n",
            "Non-trainable params: 0\n",
            "_________________________________________________________________\n"
          ]
        }
      ]
    },
    {
      "cell_type": "code",
      "source": [
        "model.summary()"
      ],
      "metadata": {
        "colab": {
          "base_uri": "https://localhost:8080/"
        },
        "id": "Xyb26uhjjDkP",
        "outputId": "9493011b-9aca-4509-bf74-93862348d021"
      },
      "execution_count": 100,
      "outputs": [
        {
          "output_type": "stream",
          "name": "stdout",
          "text": [
            "Model: \"sequential_3\"\n",
            "_________________________________________________________________\n",
            " Layer (type)                Output Shape              Param #   \n",
            "=================================================================\n",
            " embedding_7 (Embedding)     (None, 17, 240)           378480    \n",
            "                                                                 \n",
            " bidirectional_6 (Bidirectio  (None, 300)              469200    \n",
            " nal)                                                            \n",
            "                                                                 \n",
            " dense_7 (Dense)             (None, 1577)              474677    \n",
            "                                                                 \n",
            "=================================================================\n",
            "Total params: 1,322,357\n",
            "Trainable params: 1,322,357\n",
            "Non-trainable params: 0\n",
            "_________________________________________________________________\n"
          ]
        }
      ]
    },
    {
      "cell_type": "markdown",
      "source": [
        "Show accuracy"
      ],
      "metadata": {
        "id": "hLeaRsRmURJY"
      }
    },
    {
      "cell_type": "code",
      "source": [
        "import matplotlib.pyplot as plt\n",
        "\n",
        "\n",
        "def plot_graphs(history, string):\n",
        "  plt.plot(history.history[string])\n",
        "  plt.xlabel(\"Epochs\")\n",
        "  plt.ylabel(string)\n",
        "  plt.show()"
      ],
      "metadata": {
        "id": "mc55cVsaUQjz"
      },
      "execution_count": 101,
      "outputs": []
    },
    {
      "cell_type": "code",
      "source": [
        "plot_graphs(history, 'accuracy')"
      ],
      "metadata": {
        "colab": {
          "base_uri": "https://localhost:8080/",
          "height": 449
        },
        "id": "HM-O8xJEUZFQ",
        "outputId": "ca6c5143-7200-47bb-9fe6-d0b8b1bdfbf8"
      },
      "execution_count": 102,
      "outputs": [
        {
          "output_type": "display_data",
          "data": {
            "text/plain": [
              "<Figure size 640x480 with 1 Axes>"
            ],
            "image/png": "[encoded data removed]"
          },
          "metadata": {}
        }
      ]
    },
    {
      "cell_type": "code",
      "source": [
        "model.save('poet.keras')"
      ],
      "metadata": {
        "id": "c2zxzDRwcpq-"
      },
      "execution_count": 107,
      "outputs": []
    },
    {
      "cell_type": "code",
      "source": [
        "seed_text = \"Blinding lights\"\n",
        "temp = \"\"\n",
        "next_words = 20\n",
        "\n",
        "for i in range(next_words):\n",
        "  token_list = tokenizer.texts_to_sequences([seed_text])[0]\n",
        "  token_list = pad_sequences([token_list], maxlen=max_sequence_len-1, padding='pre')\n",
        "  predicted = np.argmax(model.predict(token_list), axis=-1)\n",
        "  output_word = \"\"\n",
        "  for word, index in tokenizer.word_index.items():\n",
        "    temp+=f\" {word}\"\n",
        "    if index == predicted:\n",
        "      output_word = word\n",
        "      break\n",
        "  seed_text += f\" {output_word}\"\n",
        "\n",
        "\n",
        "print(len(seed_text))"
      ],
      "metadata": {
        "colab": {
          "base_uri": "https://localhost:8080/"
        },
        "id": "iFzgx1yHdbZb",
        "outputId": "c1b3e791-dfe5-465c-c28d-0044e17cea6f"
      },
      "execution_count": 118,
      "outputs": [
        {
          "output_type": "stream",
          "name": "stdout",
          "text": [
            "1/1 [==============================] - 0s 25ms/step\n",
            "1/1 [==============================] - 0s 21ms/step\n",
            "1/1 [==============================] - 0s 24ms/step\n",
            "1/1 [==============================] - 0s 23ms/step\n",
            "1/1 [==============================] - 0s 21ms/step\n",
            "1/1 [==============================] - 0s 31ms/step\n",
            "1/1 [==============================] - 0s 25ms/step\n",
            "1/1 [==============================] - 0s 22ms/step\n",
            "1/1 [==============================] - 0s 21ms/step\n",
            "1/1 [==============================] - 0s 21ms/step\n",
            "1/1 [==============================] - 0s 20ms/step\n",
            "1/1 [==============================] - 0s 21ms/step\n",
            "1/1 [==============================] - 0s 22ms/step\n",
            "1/1 [==============================] - 0s 20ms/step\n",
            "1/1 [==============================] - 0s 20ms/step\n",
            "1/1 [==============================] - 0s 19ms/step\n",
            "1/1 [==============================] - 0s 18ms/step\n",
            "1/1 [==============================] - 0s 18ms/step\n",
            "1/1 [==============================] - 0s 19ms/step\n",
            "1/1 [==============================] - 0s 20ms/step\n",
            "113\n"
          ]
        }
      ]
    },
    {
      "cell_type": "code",
      "source": [
        "seed_text+=\"\\n~Silverlight\""
      ],
      "metadata": {
        "id": "7M7arvT2eKEr"
      },
      "execution_count": 119,
      "outputs": []
    },
    {
      "cell_type": "code",
      "source": [
        "seed_text\n",
        "temp"
      ],
      "metadata": {
        "colab": {
          "base_uri": "https://localhost:8080/",
          "height": 122
        },
        "id": "I_uEPM49uN8p",
        "outputId": "b7ef6d42-1dd9-4ede-e6c0-ae0df3a43323"
      },
      "execution_count": 17,
      "outputs": [
        {
          "output_type": "execute_result",
          "data": {
            "text/plain": [
              "\" and the i to you a of in that my all me but so for we is it 'cause this i'm like with was lost be not when just what know her on don't no are as up been hope love how need life down time now if it's you're from who i've away little than out world your there say eyes through at were more she still think here back never or let these one they feel can't nothing our where had want said i'll yeah heart feet death tears then make do words better can even many much long could things sweet their he him upon good find gold always go get years every have place dark god light his ever thing heard see another did hard ain't forget mean let's live future earth dreams few thought would stay whose lips o days over day mind break keep wanna wanted we'll coal seems slow train soul hands why by us too an thy great before will way guess maybe take right hearing white doesn't blues those come heaven sad soft has them caught knew angel own shame song hair hold old ah only wrong past really swear we're oh got won't that's run leave you’re waiting there's into am yet family deep trying thoughts running again while full since ere flowers new may change fair left name came face some eyelids thine thee set thou any kiss red between times fire die burn thinking outside should what's should've remember last head lying tell fucking mess anyway chasing you'll wake someday shooting stars looking almost honesty repeat young today brown boy start pride breath same darkness hand makes warm seen first sought earth's though lands other strange sky once meet flame till smiled fear sides filled raiment therein each mouth wine peace land sunlight made late night stood against shed thereof kept bitter ran best whom glorious bosom apart leaves seek rusty lie fly alive open needing spent try around fuckin' myself took feelings off feeling 'till sometimes needed everything novocaine screaming airwaves gotta watching changing million dreaming end scared highlights movies least didn't escape getaway matter tomorrow mile happy bring learning falling grew hear well vain true wood alone rhyme part remain takes hailed ring world's girth heaven's held seem perchance worth field rose most heat love's silent search death's fill grown lovelier angels knows sleep blue haply wide wonder house beside high failed put hearts sigh called small child might holds loss tear crowned master born thyself people woven cleave after about trees sin three mouths mourn evil voice mine praise lady's kisses knowest fashioned bed both blood purple curled sea strewn amber delight saying glad taken flower found across lo side lived body ballad sheaves rain grass thrall care dream air arms i'd shit staring girl and the i and the i to you a of in that my all me but so for we is it 'cause this i'm like with was lost be not when just what know her on don't no are as up been hope love how need life down time now if it's you're from who i've away little than out world your there say eyes through at were more she still think here back never or let these one they feel can't nothing our where had want said i'll yeah heart feet death tears then make do words better can even many much long could things sweet their he him upon good find gold always go get years every have place dark god light his ever thing heard see and the i to you a and the i to you a of in that my all me but so for we is it 'cause this i'm like with was lost be not when just what know her on don't no are as up been hope love how need life down time now if it's you're from who i've away little than out world your there say eyes through at were more she still think here back never or let these one they feel can't nothing our where had want said i'll yeah heart feet death tears then make do words better can even many much long could things sweet their he him upon good find gold always go get years every have place dark god light his ever thing heard see another did hard ain't forget mean let's live future earth dreams few thought would stay whose lips o days over day mind break keep wanna wanted we'll coal seems slow train soul hands why by us too an thy great before will way guess maybe take right hearing white doesn't blues those come heaven sad soft has them caught knew angel own shame song hair hold old ah only wrong past really swear we're oh got won't that's run leave you’re waiting there's into am yet family deep trying thoughts running again while full since ere flowers new may change fair left name came face some eyelids thine thee set thou any kiss red between times fire die burn thinking outside should what's should've remember last head lying tell fucking mess anyway chasing you'll wake someday shooting stars looking almost honesty repeat young today brown boy start pride breath same darkness hand makes warm seen first sought earth's though lands other strange sky once meet flame till smiled fear sides filled raiment therein each mouth wine peace land sunlight made late night stood against shed thereof kept bitter ran best whom glorious bosom apart leaves seek rusty lie fly alive open needing spent try around fuckin' myself took feelings off feeling 'till sometimes needed everything novocaine screaming airwaves gotta watching changing million dreaming end scared highlights movies least didn't escape getaway matter tomorrow mile happy bring learning falling grew hear well vain true wood alone rhyme part remain takes hailed ring world's girth heaven's held seem perchance worth field rose most heat love's silent search death's fill grown lovelier angels knows sleep blue haply wide wonder house beside high failed put hearts sigh called small child might holds loss tear crowned master born thyself people woven cleave after about trees sin three mouths mourn evil voice mine praise lady's kisses knowest fashioned bed both blood purple curled sea strewn amber delight saying glad taken flower found across lo side lived body ballad sheaves rain grass thrall care dream air arms i'd shit staring girl meant silence heartless catching empathy stand lungs tired slowly point must below whatever especially lying's rush rather hurting hole we've under far near half america streets gonna talk sun fears fake lines sunshine grow forever speak built story counting spaces endless flight dying gone ago exactly living felt friend green drift growing cascading comes hate fucked rhythm listening prayer longing town wherever hears i’ve pain finds brother friends mom thankful everyone eve seemed grief until cried ” looked man midst very hill its honest poetry earned they're unostentatious which quarter and the i to and the i to you a of in that my all me but so for we is it 'cause this i'm like with was lost be not when just what know her on don't no are as up been hope love how need life down time now if it's you're from who i've away little than out world your there say eyes through at were more she still think here back never or let these one and the i to you a of in and the and the i to you a of in that my all me but so for we is it 'cause this i'm like with was lost be not when just what know her on don't no are as up been hope love how need life down time now if it's you're from who i've away little than out world your there say eyes through at were more she still think here back never or let these one they feel can't nothing our where had want said i'll yeah heart feet death tears then make do words better can even many much long could things sweet their he him upon good find gold always go get years every have place dark god light his ever thing heard see another did hard ain't forget mean let's live future earth dreams few thought would stay whose lips o days and the i to you a of and the i to you a of in that my all me but so for we is it 'cause this i'm like with was lost be not when just what know her on don't no are as up been hope love how need life down time now if it's you're from who i've away little than out world your there say eyes through at were more she still think here back never or let these one they feel can't nothing our where had want said i'll yeah heart feet death tears then make do words better can even many much long could things sweet their he him upon good find gold always go get years every have place dark god light his ever thing heard see another did hard ain't forget mean let's live future earth dreams few thought would stay whose lips o days over day mind break keep wanna wanted we'll coal seems slow train soul hands why by us too an thy great before will way guess maybe take right hearing white doesn't blues those come heaven sad soft has them caught knew angel own shame song hair hold old ah only wrong past really swear we're oh got won't that's run leave you’re waiting there's into am yet family deep trying thoughts running again while full since ere flowers new may change fair left name came face some eyelids thine thee set thou any kiss red between times fire die burn thinking outside should what's should've remember last head lying tell fucking mess anyway chasing you'll wake someday shooting stars looking almost honesty repeat young today brown boy start pride breath same darkness hand makes warm seen first sought earth's though lands other strange sky once meet flame till smiled fear sides filled raiment therein each mouth wine peace land sunlight made late night stood against shed thereof kept bitter ran best whom glorious bosom apart leaves seek rusty lie fly alive open needing spent try around fuckin' myself took feelings off feeling 'till sometimes needed everything novocaine screaming airwaves gotta watching changing million dreaming end scared highlights movies least didn't escape getaway matter tomorrow mile happy bring learning falling grew hear well vain true wood alone rhyme part remain takes hailed ring world's girth heaven's held seem perchance worth field rose most heat love's silent search death's fill grown lovelier angels knows sleep blue haply wide wonder house beside high failed put hearts sigh called small child might holds loss tear crowned master born thyself people woven cleave after about trees sin three mouths mourn evil voice mine praise lady's kisses knowest fashioned bed both blood purple curled sea strewn amber delight saying glad taken flower found across lo side lived body ballad sheaves rain grass thrall care dream air arms i'd shit staring girl meant silence heartless catching empathy stand lungs tired slowly point must below whatever especially lying's rush rather hurting hole we've under far near half america streets gonna talk sun fears fake lines sunshine grow forever speak built story counting spaces endless flight dying gone ago exactly living felt friend green drift growing cascading comes hate fucked rhythm listening prayer longing town wherever hears i’ve pain finds brother friends mom thankful everyone eve seemed grief until cried ” looked man midst very hill its honest poetry earned they're unostentatious which quarter strength jumping bag certainly darkest beat victory reasonable placed burner difficult heavy seasons cold gloomy stereotypical behaviour quite apparent quiet reside yes you’ll scarce fledged wing goal fresh birth bells toll knowing beyond blind writ scroll fruitfulness dearth time's control ill trod strayed street leads upward june's honied keen kindling sod pilgrimage's period swift moons complete mother's clasped shod prizes worthless sands gift god's servant brought ask self stands lends wings dim expands nought guiding dawning skies lights anew rise such lighten paradise storm descries ours bedew strait range joyless grange whence bore estrange gifts heavier 'was ' seeing frame man's bright bear cloud covers wan rare yearned birthday weeps grave undefiled bitterer soundless mightiest styled sovereign arts fate reconciled saw beneath tenderer sphere michael bows weep bier kneel girdle sighing mirth cover ears rumour sorrowing sighs flesh pains grievous sorrows wise armlet gorget sleeve lute hanged singing underbreath lovers spoken smitten wherethrough softer abide passage shalt cast moonlight fail woman goodly yea shamed amorous roses spring queen venus hood striped black drawn fully brows wherein temples drained wave water sea's dove's sickeneth dust pearl dyed sendaline painted secret ways covered grape maidens doves brides within bride chamber garment weeping faces wearied loves swoon awake wearier fell fallen arise lift forth multitude gracious among handmaiden kissing stateliest kings bowed themselves pale honey honeycomb spikenard bruised burnt offering became frankincense king morning purged savour issuing thence beheld likeness robed dead shut whereby men died emptied blood's shade withheld spoilt weight colour tresses weighed vesture dyes clothed hollow gown parted breast cloven fills tender interspace fine tarnished righteous almsgiving glory garments charity beauty deed sight lay whereof heed virtuous souls women otherwise gather poppies brier rusted rotten rank waste marigold unhappy fades mown altereth become bow groan sojourn outgoing return evening shall stab knives given quest acceptance cut wants beg floor bleed nothingness perhaps unite wind muggy warmth joy's useless chop pieces salvation darkened door deny fault weren't sonder kinda terrified sorry preoccupied thinkin' 'bout react ghosted realize nowhere you've roof spoke nine sinking going attached having sex call laying cards choices barrel bullets stop indecision's kevlar 'til stops done worst ohh flashbacks chest move chemicals routes supposed addicted nights something doing inside driving survived atmosphere twenty third six thirty thousand sundown east westbound edge phase tunnel vision owns sleeping pm sleepwalking talking b plan system fall taking makeup wash shining somewhere cigarette ash wildfire burning holes nighttime scars barbed wire lies flying ceasefire dropping flags shoreline haunt endings hardest sunsets power making heading 45 millimeter rolling polaroids outkast burnout fast bound behind forgetting being goes credits roll bridge kerosene watch wish told ends step relive lifetime solace give ghosts home bury bones circles ending leap means betray contradict knees dreamt sure woke woah bittersweet grain bend hurts laughs faking loose grip bends cracked screens fold smoke diffusing confusing fuck 21 stupid 16 known moved couldn't disappear tried strong faced lonely linked bare whiter soles drum dusty stomp gods draw roots caressing seeds shuffle clank leg irons consoles promise sung softly cotton sadness meeting patience century lady loved africa weary corner that’s dusk descends lurk plangent trumpet reeds mourning clarinet nostalgia saxophone whispers reply without lonesome imminent oblivion hounds breathing neck season recriminations youth and the i to you a of in that my all me but so for we is it 'cause this i'm like with was lost be not when just what know her on don't no are as up been hope love how need life down time now if it's you're from who i've away little than out world your there say eyes through at were more she still think here back never or let these one they feel can't nothing our where had want said i'll yeah heart feet death tears then make do words better can even many much long could things sweet their he him upon good find gold always go get years every have place dark god light his ever thing heard see another did hard ain't forget mean let's live future earth dreams few thought would stay whose lips o days over day mind break keep wanna wanted we'll coal seems slow train soul hands why by us too an thy great before will way guess maybe take right hearing white doesn't blues those come heaven sad soft has them caught knew angel own shame song hair hold old ah only wrong past really swear we're oh got won't that's run leave you’re waiting there's into am yet family deep trying thoughts running again while full since ere flowers new may change fair left name came face some eyelids thine thee set thou any kiss red between times fire die burn thinking outside should what's should've remember last head lying tell fucking mess anyway chasing you'll wake someday shooting stars looking almost honesty repeat young today brown boy start pride breath same darkness hand makes warm seen first sought earth's though lands other strange sky once meet flame till smiled fear sides filled raiment therein each mouth wine peace land sunlight made late night stood against shed thereof kept bitter ran best whom glorious bosom apart leaves seek rusty lie fly alive open needing spent try around fuckin' myself took feelings off feeling 'till sometimes needed everything novocaine screaming airwaves gotta watching changing million dreaming end scared highlights movies least didn't escape getaway matter tomorrow mile happy bring learning falling grew hear well vain true wood alone rhyme part remain takes hailed ring world's girth heaven's held seem perchance worth field rose most heat love's silent search death's fill grown lovelier angels knows sleep blue haply wide wonder house beside high failed put hearts sigh called small child might holds loss tear crowned master born thyself people woven cleave after about trees sin three mouths mourn evil voice mine praise lady's kisses knowest fashioned bed both blood purple curled sea strewn amber delight saying glad taken flower found across lo side lived body ballad sheaves rain grass thrall care dream air arms i'd shit staring girl meant silence heartless catching empathy stand lungs tired slowly point must below whatever especially lying's rush rather hurting hole we've under far near half america streets gonna talk sun fears fake lines sunshine grow forever speak built story counting spaces endless flight dying gone ago exactly living felt friend green drift growing cascading comes hate fucked rhythm listening prayer longing town wherever hears i’ve pain finds brother friends mom thankful everyone eve seemed grief until cried ” looked man midst very hill its honest poetry earned they're unostentatious which quarter strength jumping bag certainly darkest beat victory reasonable placed burner difficult heavy seasons cold gloomy stereotypical behaviour quite apparent quiet reside yes you’ll scarce fledged wing goal fresh birth bells toll knowing beyond blind writ scroll fruitfulness dearth time's control ill trod strayed street leads upward june's honied keen kindling sod pilgrimage's period swift moons complete mother's clasped shod prizes worthless sands gift god's servant brought ask self stands lends wings dim expands nought guiding dawning skies lights anew rise such lighten paradise storm descries ours bedew strait range joyless grange whence bore estrange gifts heavier 'was ' seeing frame man's bright bear cloud covers wan rare yearned birthday weeps grave undefiled bitterer soundless mightiest styled sovereign arts fate reconciled saw beneath tenderer sphere michael bows weep bier kneel girdle sighing mirth cover ears rumour sorrowing sighs flesh pains grievous sorrows wise armlet gorget sleeve lute hanged singing underbreath lovers spoken smitten wherethrough softer abide passage shalt cast moonlight fail woman goodly yea shamed amorous roses spring queen venus hood striped black drawn fully brows wherein temples drained wave water sea's dove's sickeneth dust pearl dyed sendaline painted secret ways covered grape maidens doves brides within bride chamber garment weeping faces wearied loves swoon awake wearier fell fallen arise lift forth multitude gracious among handmaiden kissing stateliest kings bowed themselves pale honey honeycomb spikenard bruised burnt offering became frankincense king morning purged savour issuing thence beheld likeness robed dead shut whereby men died emptied blood's shade withheld spoilt weight colour tresses weighed vesture dyes clothed hollow gown parted breast cloven fills tender interspace fine tarnished righteous almsgiving glory garments charity beauty deed sight lay whereof heed virtuous souls women otherwise gather poppies brier rusted rotten rank waste marigold unhappy fades mown altereth become bow groan sojourn outgoing return evening shall stab knives given quest acceptance cut wants beg floor bleed nothingness perhaps unite wind muggy warmth joy's useless chop pieces salvation darkened door deny fault weren't sonder kinda terrified sorry preoccupied thinkin' 'bout react ghosted realize nowhere you've roof spoke nine sinking going attached having sex call laying cards choices barrel bullets stop indecision's kevlar 'til stops done worst ohh flashbacks chest move chemicals routes supposed addicted nights something doing inside driving survived atmosphere twenty third six thirty thousand sundown east westbound edge phase tunnel vision owns sleeping pm sleepwalking talking b plan system fall taking makeup wash shining somewhere cigarette ash wildfire burning holes nighttime scars barbed wire lies flying ceasefire dropping flags shoreline haunt endings hardest sunsets power making heading 45 millimeter rolling polaroids outkast burnout fast bound behind forgetting being goes credits roll bridge kerosene watch wish told ends step relive lifetime solace give ghosts home bury bones circles ending leap means betray contradict knees dreamt sure woke woah bittersweet grain bend hurts laughs faking loose grip bends cracked screens fold smoke diffusing confusing fuck 21 stupid 16 known moved couldn't disappear tried strong faced lonely linked bare whiter soles drum dusty stomp gods draw roots caressing seeds shuffle clank leg irons consoles promise sung softly cotton sadness meeting patience and the i to you a of in that my all me but so for we is it 'cause this i'm like with was lost be not when just what know her on don't no are as up been hope love how need life down time now if it's you're from who i've away little than out world your there say eyes through at were more she still think here back never or let these one they feel can't nothing our where had want said i'll yeah heart feet death tears then make do words better can even many much long could things sweet their he him upon good find gold always go get years every have place dark god light his ever thing heard see another did hard ain't forget mean let's live future earth dreams few thought would stay whose lips o days over day mind break keep wanna wanted we'll coal seems slow train soul hands why by us too an thy great before will way guess maybe take right hearing white doesn't blues those come heaven sad soft has them caught knew angel own shame song hair hold old ah only wrong past really swear we're oh got won't that's run leave you’re waiting there's into am yet family deep trying thoughts running again while full since ere flowers new may change fair left name came face some eyelids thine thee set thou any kiss red between times fire die burn thinking outside should what's should've remember last head lying tell fucking mess anyway chasing you'll wake someday shooting stars looking almost honesty repeat young today brown boy start pride breath same darkness hand makes warm seen first sought earth's though lands other strange sky once meet flame till smiled fear sides filled raiment therein each mouth wine peace land sunlight made late night stood against shed thereof kept bitter ran best whom glorious bosom apart leaves seek rusty lie fly alive open needing spent try around fuckin' myself took feelings off feeling 'till sometimes needed everything novocaine screaming airwaves gotta watching changing million dreaming end scared highlights movies least didn't escape getaway matter tomorrow mile happy bring learning falling grew hear well vain true wood alone rhyme part remain takes hailed ring world's girth heaven's held seem perchance worth field rose most heat love's silent search death's fill grown lovelier angels knows sleep blue haply wide wonder house beside high failed put hearts sigh called small child might holds loss tear crowned master born thyself people woven cleave after about trees sin three mouths mourn evil voice mine praise lady's kisses knowest fashioned bed both blood purple curled sea strewn amber delight saying glad taken flower found across lo side lived body ballad sheaves rain grass thrall care dream air arms i'd shit staring girl meant silence heartless catching empathy stand lungs tired slowly point must below whatever especially lying's rush rather hurting hole we've under far near half america streets gonna talk sun fears fake lines sunshine grow forever speak built story counting spaces endless flight dying gone ago exactly living felt friend green drift growing cascading comes hate fucked rhythm listening prayer longing town wherever hears i’ve pain finds brother friends mom thankful everyone eve seemed grief until cried ” looked man midst very hill its honest poetry earned they're unostentatious which quarter strength jumping bag certainly darkest beat victory reasonable placed burner difficult heavy seasons cold gloomy stereotypical behaviour quite apparent quiet reside yes you’ll scarce fledged wing goal fresh birth bells toll knowing beyond blind writ scroll fruitfulness dearth time's control ill trod strayed street leads upward june's honied keen kindling sod pilgrimage's period swift moons complete mother's clasped shod prizes worthless sands gift god's servant brought ask self stands lends wings dim expands nought guiding dawning skies lights anew rise such lighten paradise storm descries ours bedew strait range joyless grange whence bore estrange gifts heavier 'was ' seeing frame man's bright bear cloud covers wan rare yearned birthday weeps grave undefiled bitterer soundless mightiest styled sovereign arts fate reconciled saw beneath tenderer sphere michael bows weep bier kneel girdle sighing mirth cover ears rumour sorrowing sighs flesh pains grievous sorrows wise armlet gorget sleeve lute hanged singing underbreath lovers spoken smitten wherethrough softer abide passage shalt cast moonlight fail woman goodly yea shamed amorous roses spring queen venus hood striped black drawn fully brows wherein temples drained wave water sea's dove's sickeneth dust pearl dyed sendaline painted secret ways covered grape maidens doves brides within bride chamber garment weeping faces wearied loves swoon awake wearier fell fallen arise lift forth multitude gracious among handmaiden kissing stateliest kings bowed themselves pale honey honeycomb spikenard bruised burnt offering became frankincense king morning purged savour issuing thence beheld likeness robed dead shut whereby men died emptied blood's shade withheld spoilt weight colour tresses weighed vesture dyes clothed hollow gown parted breast cloven fills tender interspace fine tarnished righteous almsgiving glory garments charity beauty deed sight lay whereof heed virtuous souls women otherwise gather poppies brier rusted rotten rank waste marigold unhappy fades mown altereth become bow groan sojourn outgoing return evening shall stab knives given quest acceptance cut wants beg floor bleed nothingness perhaps unite wind muggy warmth joy's useless chop pieces salvation darkened door deny fault weren't sonder kinda terrified sorry preoccupied thinkin' 'bout react ghosted realize nowhere you've roof spoke nine sinking going attached having sex call laying cards choices barrel bullets stop indecision's kevlar 'til stops done worst ohh flashbacks chest move chemicals routes supposed addicted nights something doing inside driving survived atmosphere twenty third six thirty thousand sundown east westbound edge phase tunnel vision owns sleeping pm sleepwalking talking b plan system fall taking makeup wash shining somewhere cigarette ash wildfire burning holes nighttime scars barbed wire lies flying ceasefire dropping flags shoreline haunt endings hardest sunsets power making heading 45 millimeter rolling polaroids outkast burnout fast bound behind forgetting being goes credits roll bridge kerosene watch wish told ends step relive lifetime solace give ghosts home bury bones circles ending leap means betray contradict knees dreamt sure woke woah bittersweet grain bend hurts laughs faking loose grip bends cracked screens fold smoke diffusing confusing fuck 21 stupid 16 known moved couldn't disappear tried strong faced lonely linked bare whiter soles drum dusty stomp gods draw roots caressing seeds shuffle clank leg irons and the i to you a of in that my all me but so for we is it 'cause this i'm like with was lost be not when just what know her on don't no are as up been hope love how need life down time now if it's you're from who i've away little than out world your there say eyes through at were more she still think here back never or let these one they feel can't nothing our where had want said i'll yeah heart feet death tears then make do words better can even many much long could things sweet their he him upon good find gold always go get years every have place dark god light his ever thing heard see another did hard ain't forget mean let's live future earth dreams few thought would stay whose lips o days over day mind break keep wanna wanted we'll coal seems slow train soul hands why by us too an thy great before will way guess maybe take right hearing white doesn't blues those come heaven sad soft has them caught knew angel own shame song hair hold old ah only wrong past really swear we're oh got won't that's run leave you’re waiting there's into am yet family deep trying thoughts running again while full since ere flowers new may change fair left name came face some eyelids thine thee set thou any kiss red between times fire die burn thinking outside should what's should've remember last head lying tell fucking mess anyway chasing you'll wake someday shooting stars looking almost honesty repeat young today brown boy start pride breath same darkness hand makes warm seen first sought earth's though lands other strange sky once meet flame till smiled fear sides filled raiment therein each mouth wine peace land sunlight made late night stood against shed thereof kept bitter ran best whom glorious bosom apart leaves seek rusty lie fly alive open needing spent try around fuckin' myself took feelings off feeling 'till sometimes needed everything novocaine screaming airwaves gotta watching changing million dreaming end scared highlights movies least didn't escape getaway matter tomorrow mile happy bring learning falling grew hear well vain true wood alone rhyme part remain takes hailed ring world's girth heaven's held seem perchance worth field rose most heat love's silent search death's fill grown lovelier angels knows sleep blue haply wide wonder house beside high failed put hearts sigh called small child might holds loss tear crowned master born thyself people woven cleave after about trees sin three mouths mourn evil voice mine praise lady's kisses knowest fashioned bed both blood purple curled sea strewn amber delight saying glad taken flower found across lo side lived body ballad sheaves rain grass thrall care dream air arms i'd shit staring girl meant silence heartless catching empathy stand lungs tired slowly point must below whatever especially lying's rush rather hurting hole we've under far near half america streets gonna talk sun fears fake lines sunshine grow forever speak built story counting spaces endless flight dying gone ago exactly living felt friend green drift growing cascading comes hate fucked rhythm listening and the i to you a of in that my all me but so for we is it 'cause this i'm like with was lost be not when just what know her on don't no are as up been hope love how need life down time now if it's you're from who i've away little than out world your there say eyes through at were more she still think here back never or let these one they feel can't nothing our where had want said i'll yeah heart feet death tears then make do words better can even many much long could things sweet their he him upon good find gold always go get years every have place dark god light his ever thing heard see another did hard ain't forget mean let's live future earth dreams few thought would stay whose lips o days over day mind break keep wanna wanted we'll coal seems slow train soul hands why by us too an thy great before will way guess maybe take right hearing white doesn't blues those come heaven sad soft has them caught knew angel own shame song hair hold old ah only wrong past really swear we're oh got won't that's run leave you’re waiting there's into am yet family deep trying thoughts running again while full since ere flowers new may change fair left name came face some eyelids thine thee set thou any kiss red between times fire die burn thinking outside should what's should've remember last head lying tell fucking mess anyway chasing you'll wake someday shooting stars looking almost honesty repeat young today brown boy start pride breath same darkness hand makes warm seen first sought earth's though lands other strange sky once meet flame till smiled fear sides filled raiment therein each mouth wine peace land sunlight made late night stood against shed thereof kept bitter ran best and the i to you a of in that my all me but so for we is it 'cause this i'm like with was lost be not when just what know her on don't no are as up been hope love how need life down time now if it's you're from who i've away little than out world your there say eyes through at were more she still think here and the i to you a of in that my all me but so for we is it 'cause this i'm like with was lost be not when just what know her on don't no are as up been hope love how need life down time now if it's you're from who i've away little than out world your there say eyes through at and the i to you a of in that my all me but so for we is it 'cause this i'm like with was lost be not when just what know her on don't no are as up been hope love how need life down time now if it's you're from who i've away little than out world your there say eyes through at were more she still think here back never or let these one they feel can't nothing our where had want said i'll yeah heart feet death tears then make do words better can even many much long could things sweet their he him upon good find gold always go get years every have place dark god light his ever thing heard see another did hard ain't forget mean let's live future earth dreams few thought would stay whose lips o days over day mind break keep wanna wanted we'll coal seems slow train soul hands why by us too an thy great before will way guess maybe take right hearing white doesn't blues those come heaven sad soft has them caught knew angel own shame song hair hold old ah only wrong past really swear we're oh got won't that's run leave you’re waiting there's into am yet family deep trying thoughts running again while full since ere flowers new may change fair left name came face some eyelids thine thee set thou any kiss red between times fire die burn thinking outside should what's should've remember last head lying tell fucking mess anyway chasing you'll wake someday shooting stars looking almost honesty repeat young today brown boy start pride breath same darkness hand makes warm seen first sought earth's though lands other strange sky once and the i to you a of in that my all me but so for we is it 'cause this i'm like with was lost be not when just what know her on don't no are as up been hope love how need life down time now if it's you're from who i've away little than out world your there say eyes through at were more she still think here back never or let these one they feel can't nothing our where had want said i'll yeah heart feet death tears then make do words better can even many much long could things sweet their he him upon good find gold always go get years every have place dark god light his\""
            ],
            "application/vnd.google.colaboratory.intrinsic+json": {
              "type": "string"
            }
          },
          "metadata": {},
          "execution_count": 17
        }
      ]
    },
    {
      "cell_type": "code",
      "source": [
        "print(seed_text)"
      ],
      "metadata": {
        "colab": {
          "base_uri": "https://localhost:8080/"
        },
        "id": "U4cbErypXiC9",
        "outputId": "1613ddda-220a-42c8-dc1d-1363562ec7f2"
      },
      "execution_count": 120,
      "outputs": [
        {
          "output_type": "stream",
          "name": "stdout",
          "text": [
            "Blinding lights to me what you're thinking away get back here and breaking in the shalt here of the days and dead\n",
            "~Silverlight\n"
          ]
        }
      ]
    },
    {
      "cell_type": "markdown",
      "source": [
        "Break\n"
      ],
      "metadata": {
        "id": "3CmOkL0ZRyOo"
      }
    },
    {
      "cell_type": "code",
      "source": [
        "n = int(0.9*len(tenData))\n",
        "\n",
        "train_data = tenData[:n]\n",
        "\n",
        "val_data = tenData[n:]\n"
      ],
      "metadata": {
        "id": "GHo_ucFT-AeU"
      },
      "execution_count": null,
      "outputs": []
    },
    {
      "cell_type": "code",
      "source": [
        "block_size = 8\n"
      ],
      "metadata": {
        "id": "4cd5NyAJqBeA"
      },
      "execution_count": null,
      "outputs": []
    },
    {
      "cell_type": "code",
      "source": [
        "x = train_data[:block_size]\n",
        "\n",
        "\n",
        "for t in range(block_size):\n",
        "  context = x[:t+1]\n",
        "  target = x[t]\n",
        "  print(f\"when input is {context} \\nthe target is: {target}\")"
      ],
      "metadata": {
        "id": "0MMjyxozsqD4",
        "colab": {
          "base_uri": "https://localhost:8080/"
        },
        "outputId": "f0795430-c382-43ee-dc26-92c0ce42f9ba"
      },
      "execution_count": null,
      "outputs": [
        {
          "output_type": "stream",
          "name": "stdout",
          "text": [
            "when input is tensor([10267]) \n",
            "the target is: 10267\n",
            "when input is tensor([10267,   279]) \n",
            "the target is: 279\n",
            "when input is tensor([10267,   279, 12224]) \n",
            "the target is: 12224\n",
            "when input is tensor([10267,   279, 12224,   315]) \n",
            "the target is: 315\n",
            "when input is tensor([10267,   279, 12224,   315, 29740]) \n",
            "the target is: 29740\n",
            "when input is tensor([10267,   279, 12224,   315, 29740,  5086]) \n",
            "the target is: 5086\n",
            "when input is tensor([10267,   279, 12224,   315, 29740,  5086, 11203]) \n",
            "the target is: 11203\n",
            "when input is tensor([10267,   279, 12224,   315, 29740,  5086, 11203,   319]) \n",
            "the target is: 319\n"
          ]
        }
      ]
    },
    {
      "cell_type": "code",
      "source": [
        "torch.manual_seed(1337)\n",
        "batch_size = 4 # how many independent sequences will we process in parallel?\n",
        "block_size = 8 # what is the maximum context length for predictions?\n",
        "\n",
        "def get_batch(split):\n",
        "    # generate a small batch of data of inputs x and targets y\n",
        "    data = train_data if split == 'train' else val_data\n",
        "    ix = torch.randint(len(data) - block_size, (batch_size,))\n",
        "    x = torch.stack([data[i:i+block_size] for i in ix])\n",
        "    y = torch.stack([data[i+1:i+block_size+1] for i in ix])\n",
        "    return x, y\n",
        "\n",
        "xb, yb = get_batch('train')\n",
        "print('inputs:')\n",
        "print(xb.shape)\n",
        "print(xb)\n",
        "print('targets:')\n",
        "print(yb.shape)\n",
        "print(yb)\n",
        "\n",
        "print('----')\n",
        "\n",
        "for b in range(batch_size): # batch dimension\n",
        "    for t in range(block_size): # time dimension\n",
        "        context = xb[b, :t+1]\n",
        "        target = yb[b,t]\n",
        "        print(f\"when input is {context.tolist()} the target: {target}\")"
      ],
      "metadata": {
        "id": "JJhI8Zljuozt",
        "colab": {
          "base_uri": "https://localhost:8080/"
        },
        "outputId": "2e6130b5-8e1b-434b-d134-0ae4ba33ad9d"
      },
      "execution_count": null,
      "outputs": [
        {
          "output_type": "stream",
          "name": "stdout",
          "text": [
            "inputs:\n",
            "torch.Size([4, 8])\n",
            "tensor([[ 3805,   319, 59522, 27027,  1901, 97353, 20962,  1550],\n",
            "        [  361,  8617,   430,  2316,   656,   339,   834, 35563],\n",
            "        [  389,  1077,  1093,   264, 59380,  3304,  2675,  1518],\n",
            "        [ 2967,   347,    11,   779,   606,   439,   872, 17457]])\n",
            "targets:\n",
            "torch.Size([4, 8])\n",
            "tensor([[  319, 59522, 27027,  1901, 97353, 20962,  1550, 57150],\n",
            "        [ 8617,   430,  2316,   656,   339,   834, 35563,  1909],\n",
            "        [ 1077,  1093,   264, 59380,  3304,  2675,  1518,   279],\n",
            "        [  347,    11,   779,   606,   439,   872, 17457,   409]])\n",
            "----\n",
            "when input is [3805] the target: 319\n",
            "when input is [3805, 319] the target: 59522\n",
            "when input is [3805, 319, 59522] the target: 27027\n",
            "when input is [3805, 319, 59522, 27027] the target: 1901\n",
            "when input is [3805, 319, 59522, 27027, 1901] the target: 97353\n",
            "when input is [3805, 319, 59522, 27027, 1901, 97353] the target: 20962\n",
            "when input is [3805, 319, 59522, 27027, 1901, 97353, 20962] the target: 1550\n",
            "when input is [3805, 319, 59522, 27027, 1901, 97353, 20962, 1550] the target: 57150\n",
            "when input is [361] the target: 8617\n",
            "when input is [361, 8617] the target: 430\n",
            "when input is [361, 8617, 430] the target: 2316\n",
            "when input is [361, 8617, 430, 2316] the target: 656\n",
            "when input is [361, 8617, 430, 2316, 656] the target: 339\n",
            "when input is [361, 8617, 430, 2316, 656, 339] the target: 834\n",
            "when input is [361, 8617, 430, 2316, 656, 339, 834] the target: 35563\n",
            "when input is [361, 8617, 430, 2316, 656, 339, 834, 35563] the target: 1909\n",
            "when input is [389] the target: 1077\n",
            "when input is [389, 1077] the target: 1093\n",
            "when input is [389, 1077, 1093] the target: 264\n",
            "when input is [389, 1077, 1093, 264] the target: 59380\n",
            "when input is [389, 1077, 1093, 264, 59380] the target: 3304\n",
            "when input is [389, 1077, 1093, 264, 59380, 3304] the target: 2675\n",
            "when input is [389, 1077, 1093, 264, 59380, 3304, 2675] the target: 1518\n",
            "when input is [389, 1077, 1093, 264, 59380, 3304, 2675, 1518] the target: 279\n",
            "when input is [2967] the target: 347\n",
            "when input is [2967, 347] the target: 11\n",
            "when input is [2967, 347, 11] the target: 779\n",
            "when input is [2967, 347, 11, 779] the target: 606\n",
            "when input is [2967, 347, 11, 779, 606] the target: 439\n",
            "when input is [2967, 347, 11, 779, 606, 439] the target: 872\n",
            "when input is [2967, 347, 11, 779, 606, 439, 872] the target: 17457\n",
            "when input is [2967, 347, 11, 779, 606, 439, 872, 17457] the target: 409\n"
          ]
        }
      ]
    },
    {
      "cell_type": "code",
      "source": [
        "print(xb) # our input to the transformer"
      ],
      "metadata": {
        "id": "BNxTF9UZVvf5",
        "colab": {
          "base_uri": "https://localhost:8080/"
        },
        "outputId": "d7a5e864-3cd3-437f-fbfd-ac1788dac908"
      },
      "execution_count": null,
      "outputs": [
        {
          "output_type": "stream",
          "name": "stdout",
          "text": [
            "tensor([[ 3805,   319, 59522, 27027,  1901, 97353, 20962,  1550],\n",
            "        [  361,  8617,   430,  2316,   656,   339,   834, 35563],\n",
            "        [  389,  1077,  1093,   264, 59380,  3304,  2675,  1518],\n",
            "        [ 2967,   347,    11,   779,   606,   439,   872, 17457]])\n"
          ]
        }
      ]
    },
    {
      "cell_type": "markdown",
      "source": [
        "**MODEL** **TIME**"
      ],
      "metadata": {
        "id": "ju7QniTZRErX"
      }
    },
    {
      "cell_type": "code",
      "source": [
        "class NGramLanguageModeler(nn.Module):\n",
        "    def __init__(self, vocab_size, embedding_dim, context_size):\n",
        "        super(NGramLanguageModeler, self).__init__()\n",
        "\n",
        "        # embedding layer contains embeddings for each word\n",
        "        self.embeddings = nn.Embedding(vocab_size, embedding_dim)\n",
        "\n",
        "        # linear layers to extract patterns from the corpus\n",
        "        self.linear1 = nn.Linear(context_size * embedding_dim, 128)\n",
        "        self.linear2 = nn.Linear(128, vocab_size)\n",
        "\n",
        "    def forward(self, inputs):\n",
        "        embeds = self.embeddings(inputs).view((1, -1))\n",
        "        out = F.relu(self.linear1(embeds))\n",
        "        out = self.linear2(out)\n",
        "        log_probs = F.log_softmax(out, dim=1)\n",
        "        return log_probs"
      ],
      "metadata": {
        "id": "X_VPeizHO-jz"
      },
      "execution_count": null,
      "outputs": []
    },
    {
      "cell_type": "code",
      "source": [
        "losses = []\n",
        "loss_function = nn.NLLLoss()\n",
        "model = NGramLanguageModeler(len(vocab), EMBEDDING_DIM, CONTEXT_SIZE)\n",
        "optimizer = optim.SGD(model.parameters(), lr=0.001)\n",
        "for epoch in range(10):\n",
        "    total_loss = 0\n",
        "    for context, target in trigrams:\n",
        "        context_idxs = torch.tensor([word_to_idx[w] for w in context], dtype=torch.long)\n",
        "        model.zero_grad()\n",
        "        log_probs = model(context_idxs)\n",
        "        loss = loss_function(log_probs, torch.tensor([word_to_idx[target]], dtype=torch.long))\n",
        "        loss.backward()\n",
        "        optimizer.step()\n",
        "        total_loss += loss.item()\n",
        "    losses.append(total_loss)\n",
        "print(losses)"
      ],
      "metadata": {
        "colab": {
          "base_uri": "https://localhost:8080/",
          "height": 355
        },
        "id": "x0JEHkBzS357",
        "outputId": "8712b692-43e9-4277-d4dc-276bd849a179"
      },
      "execution_count": null,
      "outputs": [
        {
          "output_type": "error",
          "ename": "IndexError",
          "evalue": "ignored",
          "traceback": [
            "\u001b[0;31m---------------------------------------------------------------------------\u001b[0m",
            "\u001b[0;31mIndexError\u001b[0m                                Traceback (most recent call last)",
            "\u001b[0;32m<ipython-input-34-1864c753be43>\u001b[0m in \u001b[0;36m<cell line: 2>\u001b[0;34m()\u001b[0m\n\u001b[1;32m      1\u001b[0m \u001b[0mm\u001b[0m \u001b[0;34m=\u001b[0m \u001b[0mBigramLanguageModel\u001b[0m\u001b[0;34m(\u001b[0m\u001b[0mvocab_size\u001b[0m\u001b[0;34m)\u001b[0m\u001b[0;34m\u001b[0m\u001b[0;34m\u001b[0m\u001b[0m\n\u001b[0;32m----> 2\u001b[0;31m \u001b[0mout\u001b[0m \u001b[0;34m=\u001b[0m \u001b[0mm\u001b[0m\u001b[0;34m(\u001b[0m\u001b[0mxb\u001b[0m\u001b[0;34m,\u001b[0m\u001b[0myb\u001b[0m\u001b[0;34m)\u001b[0m\u001b[0;34m\u001b[0m\u001b[0;34m\u001b[0m\u001b[0m\n\u001b[0m\u001b[1;32m      3\u001b[0m \u001b[0mprint\u001b[0m\u001b[0;34m(\u001b[0m\u001b[0mout\u001b[0m\u001b[0;34m.\u001b[0m\u001b[0mshape\u001b[0m\u001b[0;34m)\u001b[0m\u001b[0;34m\u001b[0m\u001b[0;34m\u001b[0m\u001b[0m\n",
            "\u001b[0;32m/usr/local/lib/python3.10/dist-packages/torch/nn/modules/module.py\u001b[0m in \u001b[0;36m_call_impl\u001b[0;34m(self, *args, **kwargs)\u001b[0m\n\u001b[1;32m   1499\u001b[0m                 \u001b[0;32mor\u001b[0m \u001b[0m_global_backward_pre_hooks\u001b[0m \u001b[0;32mor\u001b[0m \u001b[0m_global_backward_hooks\u001b[0m\u001b[0;34m\u001b[0m\u001b[0;34m\u001b[0m\u001b[0m\n\u001b[1;32m   1500\u001b[0m                 or _global_forward_hooks or _global_forward_pre_hooks):\n\u001b[0;32m-> 1501\u001b[0;31m             \u001b[0;32mreturn\u001b[0m \u001b[0mforward_call\u001b[0m\u001b[0;34m(\u001b[0m\u001b[0;34m*\u001b[0m\u001b[0margs\u001b[0m\u001b[0;34m,\u001b[0m \u001b[0;34m**\u001b[0m\u001b[0mkwargs\u001b[0m\u001b[0;34m)\u001b[0m\u001b[0;34m\u001b[0m\u001b[0;34m\u001b[0m\u001b[0m\n\u001b[0m\u001b[1;32m   1502\u001b[0m         \u001b[0;31m# Do not call functions when jit is used\u001b[0m\u001b[0;34m\u001b[0m\u001b[0;34m\u001b[0m\u001b[0m\n\u001b[1;32m   1503\u001b[0m         \u001b[0mfull_backward_hooks\u001b[0m\u001b[0;34m,\u001b[0m \u001b[0mnon_full_backward_hooks\u001b[0m \u001b[0;34m=\u001b[0m \u001b[0;34m[\u001b[0m\u001b[0;34m]\u001b[0m\u001b[0;34m,\u001b[0m \u001b[0;34m[\u001b[0m\u001b[0;34m]\u001b[0m\u001b[0;34m\u001b[0m\u001b[0;34m\u001b[0m\u001b[0m\n",
            "\u001b[0;32m<ipython-input-33-4b0eed512df6>\u001b[0m in \u001b[0;36mforward\u001b[0;34m(self, idx, targets)\u001b[0m\n\u001b[1;32m     49\u001b[0m \u001b[0;34m\u001b[0m\u001b[0m\n\u001b[1;32m     50\u001b[0m         \u001b[0;31m# idx and targets are both (B,T) tensor of integers\u001b[0m\u001b[0;34m\u001b[0m\u001b[0;34m\u001b[0m\u001b[0m\n\u001b[0;32m---> 51\u001b[0;31m         \u001b[0mtok_emb\u001b[0m \u001b[0;34m=\u001b[0m \u001b[0mself\u001b[0m\u001b[0;34m.\u001b[0m\u001b[0mtoken_embedding_table\u001b[0m\u001b[0;34m(\u001b[0m\u001b[0midx\u001b[0m\u001b[0;34m)\u001b[0m \u001b[0;31m# (B,T,C)\u001b[0m\u001b[0;34m\u001b[0m\u001b[0;34m\u001b[0m\u001b[0m\n\u001b[0m\u001b[1;32m     52\u001b[0m         \u001b[0mpos_emb\u001b[0m \u001b[0;34m=\u001b[0m \u001b[0mself\u001b[0m\u001b[0;34m.\u001b[0m\u001b[0mposition_embedding_table\u001b[0m\u001b[0;34m(\u001b[0m\u001b[0mtorch\u001b[0m\u001b[0;34m.\u001b[0m\u001b[0marange\u001b[0m\u001b[0;34m(\u001b[0m\u001b[0mT\u001b[0m\u001b[0;34m,\u001b[0m \u001b[0mdevice\u001b[0m\u001b[0;34m=\u001b[0m\u001b[0mdevice\u001b[0m\u001b[0;34m)\u001b[0m\u001b[0;34m)\u001b[0m \u001b[0;31m# (T,C)\u001b[0m\u001b[0;34m\u001b[0m\u001b[0;34m\u001b[0m\u001b[0m\n\u001b[1;32m     53\u001b[0m         \u001b[0mx\u001b[0m \u001b[0;34m=\u001b[0m \u001b[0mtok_emb\u001b[0m \u001b[0;34m+\u001b[0m \u001b[0mpos_emb\u001b[0m \u001b[0;31m# (B,T,C)\u001b[0m\u001b[0;34m\u001b[0m\u001b[0;34m\u001b[0m\u001b[0m\n",
            "\u001b[0;32m/usr/local/lib/python3.10/dist-packages/torch/nn/modules/module.py\u001b[0m in \u001b[0;36m_call_impl\u001b[0;34m(self, *args, **kwargs)\u001b[0m\n\u001b[1;32m   1499\u001b[0m                 \u001b[0;32mor\u001b[0m \u001b[0m_global_backward_pre_hooks\u001b[0m \u001b[0;32mor\u001b[0m \u001b[0m_global_backward_hooks\u001b[0m\u001b[0;34m\u001b[0m\u001b[0;34m\u001b[0m\u001b[0m\n\u001b[1;32m   1500\u001b[0m                 or _global_forward_hooks or _global_forward_pre_hooks):\n\u001b[0;32m-> 1501\u001b[0;31m             \u001b[0;32mreturn\u001b[0m \u001b[0mforward_call\u001b[0m\u001b[0;34m(\u001b[0m\u001b[0;34m*\u001b[0m\u001b[0margs\u001b[0m\u001b[0;34m,\u001b[0m \u001b[0;34m**\u001b[0m\u001b[0mkwargs\u001b[0m\u001b[0;34m)\u001b[0m\u001b[0;34m\u001b[0m\u001b[0;34m\u001b[0m\u001b[0m\n\u001b[0m\u001b[1;32m   1502\u001b[0m         \u001b[0;31m# Do not call functions when jit is used\u001b[0m\u001b[0;34m\u001b[0m\u001b[0;34m\u001b[0m\u001b[0m\n\u001b[1;32m   1503\u001b[0m         \u001b[0mfull_backward_hooks\u001b[0m\u001b[0;34m,\u001b[0m \u001b[0mnon_full_backward_hooks\u001b[0m \u001b[0;34m=\u001b[0m \u001b[0;34m[\u001b[0m\u001b[0;34m]\u001b[0m\u001b[0;34m,\u001b[0m \u001b[0;34m[\u001b[0m\u001b[0;34m]\u001b[0m\u001b[0;34m\u001b[0m\u001b[0;34m\u001b[0m\u001b[0m\n",
            "\u001b[0;32m/usr/local/lib/python3.10/dist-packages/torch/nn/modules/sparse.py\u001b[0m in \u001b[0;36mforward\u001b[0;34m(self, input)\u001b[0m\n\u001b[1;32m    160\u001b[0m \u001b[0;34m\u001b[0m\u001b[0m\n\u001b[1;32m    161\u001b[0m     \u001b[0;32mdef\u001b[0m \u001b[0mforward\u001b[0m\u001b[0;34m(\u001b[0m\u001b[0mself\u001b[0m\u001b[0;34m,\u001b[0m \u001b[0minput\u001b[0m\u001b[0;34m:\u001b[0m \u001b[0mTensor\u001b[0m\u001b[0;34m)\u001b[0m \u001b[0;34m->\u001b[0m \u001b[0mTensor\u001b[0m\u001b[0;34m:\u001b[0m\u001b[0;34m\u001b[0m\u001b[0;34m\u001b[0m\u001b[0m\n\u001b[0;32m--> 162\u001b[0;31m         return F.embedding(\n\u001b[0m\u001b[1;32m    163\u001b[0m             \u001b[0minput\u001b[0m\u001b[0;34m,\u001b[0m \u001b[0mself\u001b[0m\u001b[0;34m.\u001b[0m\u001b[0mweight\u001b[0m\u001b[0;34m,\u001b[0m \u001b[0mself\u001b[0m\u001b[0;34m.\u001b[0m\u001b[0mpadding_idx\u001b[0m\u001b[0;34m,\u001b[0m \u001b[0mself\u001b[0m\u001b[0;34m.\u001b[0m\u001b[0mmax_norm\u001b[0m\u001b[0;34m,\u001b[0m\u001b[0;34m\u001b[0m\u001b[0;34m\u001b[0m\u001b[0m\n\u001b[1;32m    164\u001b[0m             self.norm_type, self.scale_grad_by_freq, self.sparse)\n",
            "\u001b[0;32m/usr/local/lib/python3.10/dist-packages/torch/nn/functional.py\u001b[0m in \u001b[0;36membedding\u001b[0;34m(input, weight, padding_idx, max_norm, norm_type, scale_grad_by_freq, sparse)\u001b[0m\n\u001b[1;32m   2208\u001b[0m         \u001b[0;31m# remove once script supports set_grad_enabled\u001b[0m\u001b[0;34m\u001b[0m\u001b[0;34m\u001b[0m\u001b[0m\n\u001b[1;32m   2209\u001b[0m         \u001b[0m_no_grad_embedding_renorm_\u001b[0m\u001b[0;34m(\u001b[0m\u001b[0mweight\u001b[0m\u001b[0;34m,\u001b[0m \u001b[0minput\u001b[0m\u001b[0;34m,\u001b[0m \u001b[0mmax_norm\u001b[0m\u001b[0;34m,\u001b[0m \u001b[0mnorm_type\u001b[0m\u001b[0;34m)\u001b[0m\u001b[0;34m\u001b[0m\u001b[0;34m\u001b[0m\u001b[0m\n\u001b[0;32m-> 2210\u001b[0;31m     \u001b[0;32mreturn\u001b[0m \u001b[0mtorch\u001b[0m\u001b[0;34m.\u001b[0m\u001b[0membedding\u001b[0m\u001b[0;34m(\u001b[0m\u001b[0mweight\u001b[0m\u001b[0;34m,\u001b[0m \u001b[0minput\u001b[0m\u001b[0;34m,\u001b[0m \u001b[0mpadding_idx\u001b[0m\u001b[0;34m,\u001b[0m \u001b[0mscale_grad_by_freq\u001b[0m\u001b[0;34m,\u001b[0m \u001b[0msparse\u001b[0m\u001b[0;34m)\u001b[0m\u001b[0;34m\u001b[0m\u001b[0;34m\u001b[0m\u001b[0m\n\u001b[0m\u001b[1;32m   2211\u001b[0m \u001b[0;34m\u001b[0m\u001b[0m\n\u001b[1;32m   2212\u001b[0m \u001b[0;34m\u001b[0m\u001b[0m\n",
            "\u001b[0;31mIndexError\u001b[0m: index out of range in self"
          ]
        }
      ]
    }
  ]
}