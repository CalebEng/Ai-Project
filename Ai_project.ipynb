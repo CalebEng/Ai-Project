{
  "nbformat": 4,
  "nbformat_minor": 0,
  "metadata": {
    "colab": {
      "provenance": [],
      "gpuType": "T4",
      "authorship_tag": "ABX9TyOrMJGGl2TGDiDe1LrzBGI6",
      "include_colab_link": true
    },
    "kernelspec": {
      "name": "python3",
      "display_name": "Python 3"
    },
    "language_info": {
      "name": "python"
    }
  },
  "cells": [
    {
      "cell_type": "markdown",
      "metadata": {
        "id": "view-in-github",
        "colab_type": "text"
      },
      "source": [
        "<a href=\"https://colab.research.google.com/github/CalebEng/Ai-Project/blob/master/Ai_project.ipynb\" target=\"_parent\"><img src=\"https://colab.research.google.com/assets/colab-badge.svg\" alt=\"Open In Colab\"/></a>"
      ]
    },
    {
      "cell_type": "code",
      "execution_count": 1,
      "metadata": {
        "colab": {
          "base_uri": "https://localhost:8080/"
        },
        "id": "4egB2tLlsSDE",
        "outputId": "d8c786db-d347-4284-d148-f278e5cfe0c2"
      },
      "outputs": [
        {
          "output_type": "stream",
          "name": "stdout",
          "text": [
            "Looking in indexes: https://pypi.org/simple, https://us-python.pkg.dev/colab-wheels/public/simple/\n",
            "Collecting tiktoken\n",
            "  Downloading tiktoken-0.4.0-cp310-cp310-manylinux_2_17_x86_64.manylinux2014_x86_64.whl (1.7 MB)\n",
            "\u001b[2K     \u001b[90m━━━━━━━━━━━━━━━━━━━━━━━━━━━━━━━━━━━━━━━━\u001b[0m \u001b[32m1.7/1.7 MB\u001b[0m \u001b[31m27.1 MB/s\u001b[0m eta \u001b[36m0:00:00\u001b[0m\n",
            "\u001b[?25hRequirement already satisfied: regex>=2022.1.18 in /usr/local/lib/python3.10/dist-packages (from tiktoken) (2022.10.31)\n",
            "Requirement already satisfied: requests>=2.26.0 in /usr/local/lib/python3.10/dist-packages (from tiktoken) (2.27.1)\n",
            "Requirement already satisfied: urllib3<1.27,>=1.21.1 in /usr/local/lib/python3.10/dist-packages (from requests>=2.26.0->tiktoken) (1.26.15)\n",
            "Requirement already satisfied: certifi>=2017.4.17 in /usr/local/lib/python3.10/dist-packages (from requests>=2.26.0->tiktoken) (2022.12.7)\n",
            "Requirement already satisfied: charset-normalizer~=2.0.0 in /usr/local/lib/python3.10/dist-packages (from requests>=2.26.0->tiktoken) (2.0.12)\n",
            "Requirement already satisfied: idna<4,>=2.5 in /usr/local/lib/python3.10/dist-packages (from requests>=2.26.0->tiktoken) (3.4)\n",
            "Installing collected packages: tiktoken\n",
            "Successfully installed tiktoken-0.4.0\n",
            "Mounted at /content/drive\n"
          ]
        }
      ],
      "source": [
        "#imports\n",
        "import torch\n",
        "from torch import nn\n",
        "\n",
        "!pip install --upgrade tiktoken\n",
        "import tiktoken\n",
        "import matplotlib.pyplot as plt\n",
        "import pandas as pd\n",
        "from google.colab import drive\n",
        "drive.mount('/content/drive')\n",
        "import os\n",
        "os.chdir('/content/drive/My Drive/Ai work')\n",
        "#torch.__version__\n",
        "enc = tiktoken.encoding_for_model('gpt-3.5-turbo')"
      ]
    },
    {
      "cell_type": "markdown",
      "source": [
        "\n",
        "------------------- Prep and loading data sets -------------------"
      ],
      "metadata": {
        "id": "o_uZv-_ztqwI"
      }
    },
    {
      "cell_type": "markdown",
      "source": [
        "--ONLY RUN THE NEXT IF CSV FILE CONTAINING CONVOS HAS A INDEX COLUMN--"
      ],
      "metadata": {
        "id": "oNmCxGdbtT3E"
      }
    },
    {
      "cell_type": "code",
      "source": [
        "import pandas as pd\n",
        "df = pd.read_csv('Conversation.csv')\n",
        "# If you know the name of the column skip this\n",
        "first_column = df.columns[0]\n",
        "# Delete first\n",
        "df = df.drop([first_column], axis=1)\n",
        "df.to_csv('Conversation.csv', index=False)\n"
      ],
      "metadata": {
        "id": "JRj3gf5atSd9"
      },
      "execution_count": null,
      "outputs": []
    },
    {
      "cell_type": "code",
      "source": [
        "df.to_csv('Conversation_enc.csv',index=False)"
      ],
      "metadata": {
        "id": "W-NrTONA3WSv"
      },
      "execution_count": null,
      "outputs": []
    },
    {
      "cell_type": "code",
      "source": [
        "test = torch.tensor(temp1)"
      ],
      "metadata": {
        "colab": {
          "base_uri": "https://localhost:8080/",
          "height": 165
        },
        "id": "5teFZ8qscqWb",
        "outputId": "8e37d764-d668-4b6d-a563-6f625707b715"
      },
      "execution_count": null,
      "outputs": [
        {
          "output_type": "error",
          "ename": "ValueError",
          "evalue": "ignored",
          "traceback": [
            "\u001b[0;31m---------------------------------------------------------------------------\u001b[0m",
            "\u001b[0;31mValueError\u001b[0m                                Traceback (most recent call last)",
            "\u001b[0;32m<ipython-input-16-18640a6f2636>\u001b[0m in \u001b[0;36m<cell line: 1>\u001b[0;34m()\u001b[0m\n\u001b[0;32m----> 1\u001b[0;31m \u001b[0mtest\u001b[0m \u001b[0;34m=\u001b[0m \u001b[0mtorch\u001b[0m\u001b[0;34m.\u001b[0m\u001b[0mtensor\u001b[0m\u001b[0;34m(\u001b[0m\u001b[0mtemp1\u001b[0m\u001b[0;34m)\u001b[0m\u001b[0;34m\u001b[0m\u001b[0;34m\u001b[0m\u001b[0m\n\u001b[0m",
            "\u001b[0;31mValueError\u001b[0m: too many dimensions 'str'"
          ]
        }
      ]
    },
    {
      "cell_type": "code",
      "source": [
        "def format(x):\n",
        "  y=enc.encode(x)\n",
        "  return torch.tensor(y)\n",
        "\n",
        "df['question'] = df['question'].map(format)\n",
        "df['answer'] = df['answer'].map(format)\n"
      ],
      "metadata": {
        "id": "_PPLqJCG2d1c"
      },
      "execution_count": null,
      "outputs": []
    },
    {
      "cell_type": "code",
      "source": [
        "df = pd.read_csv('Conversation.csv')"
      ],
      "metadata": {
        "id": "Qauky9fH7xfZ"
      },
      "execution_count": null,
      "outputs": []
    },
    {
      "cell_type": "code",
      "source": [
        "df"
      ],
      "metadata": {
        "id": "280LNekcsPtl"
      },
      "execution_count": null,
      "outputs": []
    },
    {
      "cell_type": "code",
      "source": [
        "\n",
        "df2 = pd.read_csv('Conversation.csv')\n",
        "\n",
        "questions = df2['question'].tolist()\n",
        "answers = df2['answer'].tolist()\n",
        "\n",
        "temp = map(format, questions)\n",
        "temp2 = map(format, answers)\n",
        "\n",
        "questions = list(temp)\n",
        "answers = list(temp2)\n"
      ],
      "metadata": {
        "id": "L-nijJSCtytS"
      },
      "execution_count": null,
      "outputs": []
    },
    {
      "cell_type": "markdown",
      "source": [
        "--EXIT--"
      ],
      "metadata": {
        "id": "AMfwp0hitdK-"
      }
    },
    {
      "cell_type": "markdown",
      "source": [
        "--Padding and turning data into tensors--"
      ],
      "metadata": {
        "id": "b6xGSVoveDLp"
      }
    },
    {
      "cell_type": "code",
      "source": [
        "df = pd.read_csv('Conversation.csv')\n",
        "\n",
        "temp1 = df['question'].tolist()\n",
        "temp2 = df['answer'].tolist()\n",
        "\n",
        "def format(x):\n",
        "  y=enc.encode(x)\n",
        "  return y\n",
        "\n",
        "qT = list(map(format, temp1))\n",
        "aT = list(map(format, temp2))\n",
        "\n",
        "for i in range(0,len(qT)):\n",
        "  if len(qT[i])<25:\n",
        "    while len(qT[i])<25:\n",
        "      qT[i].append(482)\n",
        "\n",
        "\n",
        "for i in range(0,len(aT)):\n",
        "  if len(aT[i])<25:\n",
        "    while len(aT[i])<25:\n",
        "      aT[i].append(482)\n",
        "\n",
        "\n",
        "\n"
      ],
      "metadata": {
        "id": "4YPYs4MvYViI"
      },
      "execution_count": 15,
      "outputs": []
    },
    {
      "cell_type": "code",
      "source": [
        "\n",
        "questions = torch.tensor(list(qT))\n",
        "answers = torch.tensor(list(aT))"
      ],
      "metadata": {
        "id": "fz6Nfpa3da4q"
      },
      "execution_count": 16,
      "outputs": []
    },
    {
      "cell_type": "code",
      "source": [
        "questions[0].type"
      ],
      "metadata": {
        "id": "tqQon1ys-ZJd",
        "colab": {
          "base_uri": "https://localhost:8080/"
        },
        "outputId": "78679b57-e6bd-4050-e8b1-fb8646f75eb4"
      },
      "execution_count": 19,
      "outputs": [
        {
          "output_type": "execute_result",
          "data": {
            "text/plain": [
              "<function Tensor.type>"
            ]
          },
          "metadata": {},
          "execution_count": 19
        }
      ]
    },
    {
      "cell_type": "code",
      "source": [],
      "metadata": {
        "id": "O3M3bL6Sd2g9",
        "colab": {
          "base_uri": "https://localhost:8080/",
          "height": 165
        },
        "outputId": "ac8ce4dd-f9f4-4579-ff26-d433f58f2ba1"
      },
      "execution_count": 5,
      "outputs": [
        {
          "output_type": "error",
          "ename": "TypeError",
          "evalue": "ignored",
          "traceback": [
            "\u001b[0;31m---------------------------------------------------------------------------\u001b[0m",
            "\u001b[0;31mTypeError\u001b[0m                                 Traceback (most recent call last)",
            "\u001b[0;32m<ipython-input-5-a9b3498ad81f>\u001b[0m in \u001b[0;36m<cell line: 1>\u001b[0;34m()\u001b[0m\n\u001b[0;32m----> 1\u001b[0;31m \u001b[0mquestions\u001b[0m \u001b[0;34m=\u001b[0m \u001b[0mtorch\u001b[0m\u001b[0;34m.\u001b[0m\u001b[0mtensor\u001b[0m\u001b[0;34m(\u001b[0m\u001b[0mquestions\u001b[0m\u001b[0;34m)\u001b[0m\u001b[0;34m\u001b[0m\u001b[0;34m\u001b[0m\u001b[0m\n\u001b[0m",
            "\u001b[0;31mTypeError\u001b[0m: only integer tensors of a single element can be converted to an index"
          ]
        }
      ]
    },
    {
      "cell_type": "code",
      "source": [
        "n = int(0.9*len(questions))\n",
        "\n",
        "train_data_q = questions[:n]\n",
        "train_data_a = answers[:n]\n",
        "\n",
        "val_data_q = questions[n:]\n",
        "val_data_a = answers[n:]"
      ],
      "metadata": {
        "id": "GHo_ucFT-AeU"
      },
      "execution_count": 20,
      "outputs": []
    },
    {
      "cell_type": "code",
      "source": [
        "block_size = 8\n"
      ],
      "metadata": {
        "id": "4cd5NyAJqBeA"
      },
      "execution_count": 21,
      "outputs": []
    },
    {
      "cell_type": "code",
      "source": [
        "x = train_data_q[:block_size]\n",
        "y = train_data_a[:block_size]\n",
        "\n",
        "for t in range(block_size):\n",
        "  context = x[:t+1]\n",
        "  target = y[t]\n",
        "  print(f\"when input is {context} the target is: {target}\")"
      ],
      "metadata": {
        "id": "0MMjyxozsqD4",
        "colab": {
          "base_uri": "https://localhost:8080/"
        },
        "outputId": "2b4c1979-fc8b-4c51-8c0b-a3fec90061da"
      },
      "execution_count": 22,
      "outputs": [
        {
          "output_type": "stream",
          "name": "stdout",
          "text": [
            "when input is tensor([[6151,   11, 1268,  527,  499, 3815,   30,  482,  482,  482,  482,  482,\n",
            "          482,  482,  482,  482,  482,  482,  482,  482,  482,  482,  482,  482,\n",
            "          482]]) the target is: tensor([  72, 2846, 7060,   13, 1268,  922, 6261,   30,  482,  482,  482,  482,\n",
            "         482,  482,  482,  482,  482,  482,  482,  482,  482,  482,  482,  482,\n",
            "         482])\n",
            "when input is tensor([[6151,   11, 1268,  527,  499, 3815,   30,  482,  482,  482,  482,  482,\n",
            "          482,  482,  482,  482,  482,  482,  482,  482,  482,  482,  482,  482,\n",
            "          482],\n",
            "        [  72, 2846, 7060,   13, 1268,  922, 6261,   30,  482,  482,  482,  482,\n",
            "          482,  482,  482,  482,  482,  482,  482,  482,  482,  482,  482,  482,\n",
            "          482]]) the target is: tensor([   72,  2846,  5128,  1695,    13,  9523,   369, 10371,    13,   482,\n",
            "          482,   482,   482,   482,   482,   482,   482,   482,   482,   482,\n",
            "          482,   482,   482,   482,   482])\n",
            "when input is tensor([[ 6151,    11,  1268,   527,   499,  3815,    30,   482,   482,   482,\n",
            "           482,   482,   482,   482,   482,   482,   482,   482,   482,   482,\n",
            "           482,   482,   482,   482,   482],\n",
            "        [   72,  2846,  7060,    13,  1268,   922,  6261,    30,   482,   482,\n",
            "           482,   482,   482,   482,   482,   482,   482,   482,   482,   482,\n",
            "           482,   482,   482,   482,   482],\n",
            "        [   72,  2846,  5128,  1695,    13,  9523,   369, 10371,    13,   482,\n",
            "           482,   482,   482,   482,   482,   482,   482,   482,   482,   482,\n",
            "           482,   482,   482,   482,   482]]) the target is: tensor([2201, 3575,   13,  779, 1268,  617,  499, 1027,   30,  482,  482,  482,\n",
            "         482,  482,  482,  482,  482,  482,  482,  482,  482,  482,  482,  482,\n",
            "         482])\n",
            "when input is tensor([[ 6151,    11,  1268,   527,   499,  3815,    30,   482,   482,   482,\n",
            "           482,   482,   482,   482,   482,   482,   482,   482,   482,   482,\n",
            "           482,   482,   482,   482,   482],\n",
            "        [   72,  2846,  7060,    13,  1268,   922,  6261,    30,   482,   482,\n",
            "           482,   482,   482,   482,   482,   482,   482,   482,   482,   482,\n",
            "           482,   482,   482,   482,   482],\n",
            "        [   72,  2846,  5128,  1695,    13,  9523,   369, 10371,    13,   482,\n",
            "           482,   482,   482,   482,   482,   482,   482,   482,   482,   482,\n",
            "           482,   482,   482,   482,   482],\n",
            "        [ 2201,  3575,    13,   779,  1268,   617,   499,  1027,    30,   482,\n",
            "           482,   482,   482,   482,   482,   482,   482,   482,   482,   482,\n",
            "           482,   482,   482,   482,   482]]) the target is: tensor([  72, 3077, 1027, 2294,   13, 1148,  922,  499,   30,  482,  482,  482,\n",
            "         482,  482,  482,  482,  482,  482,  482,  482,  482,  482,  482,  482,\n",
            "         482])\n",
            "when input is tensor([[ 6151,    11,  1268,   527,   499,  3815,    30,   482,   482,   482,\n",
            "           482,   482,   482,   482,   482,   482,   482,   482,   482,   482,\n",
            "           482,   482,   482,   482,   482],\n",
            "        [   72,  2846,  7060,    13,  1268,   922,  6261,    30,   482,   482,\n",
            "           482,   482,   482,   482,   482,   482,   482,   482,   482,   482,\n",
            "           482,   482,   482,   482,   482],\n",
            "        [   72,  2846,  5128,  1695,    13,  9523,   369, 10371,    13,   482,\n",
            "           482,   482,   482,   482,   482,   482,   482,   482,   482,   482,\n",
            "           482,   482,   482,   482,   482],\n",
            "        [ 2201,  3575,    13,   779,  1268,   617,   499,  1027,    30,   482,\n",
            "           482,   482,   482,   482,   482,   482,   482,   482,   482,   482,\n",
            "           482,   482,   482,   482,   482],\n",
            "        [   72,  3077,  1027,  2294,    13,  1148,   922,   499,    30,   482,\n",
            "           482,   482,   482,   482,   482,   482,   482,   482,   482,   482,\n",
            "           482,   482,   482,   482,   482]]) the target is: tensor([  72, 3077, 1027, 1695,   13,  602, 2846,  304, 2978, 1314, 1457,   13,\n",
            "         482,  482,  482,  482,  482,  482,  482,  482,  482,  482,  482,  482,\n",
            "         482])\n",
            "when input is tensor([[ 6151,    11,  1268,   527,   499,  3815,    30,   482,   482,   482,\n",
            "           482,   482,   482,   482,   482,   482,   482,   482,   482,   482,\n",
            "           482,   482,   482,   482,   482],\n",
            "        [   72,  2846,  7060,    13,  1268,   922,  6261,    30,   482,   482,\n",
            "           482,   482,   482,   482,   482,   482,   482,   482,   482,   482,\n",
            "           482,   482,   482,   482,   482],\n",
            "        [   72,  2846,  5128,  1695,    13,  9523,   369, 10371,    13,   482,\n",
            "           482,   482,   482,   482,   482,   482,   482,   482,   482,   482,\n",
            "           482,   482,   482,   482,   482],\n",
            "        [ 2201,  3575,    13,   779,  1268,   617,   499,  1027,    30,   482,\n",
            "           482,   482,   482,   482,   482,   482,   482,   482,   482,   482,\n",
            "           482,   482,   482,   482,   482],\n",
            "        [   72,  3077,  1027,  2294,    13,  1148,   922,   499,    30,   482,\n",
            "           482,   482,   482,   482,   482,   482,   482,   482,   482,   482,\n",
            "           482,   482,   482,   482,   482],\n",
            "        [   72,  3077,  1027,  1695,    13,   602,  2846,   304,  2978,  1314,\n",
            "          1457,    13,   482,   482,   482,   482,   482,   482,   482,   482,\n",
            "           482,   482,   482,   482,   482]]) the target is: tensor([12840,  2978,   656,   499,   733,   311,    30,   482,   482,   482,\n",
            "          482,   482,   482,   482,   482,   482,   482,   482,   482,   482,\n",
            "          482,   482,   482,   482,   482])\n",
            "when input is tensor([[ 6151,    11,  1268,   527,   499,  3815,    30,   482,   482,   482,\n",
            "           482,   482,   482,   482,   482,   482,   482,   482,   482,   482,\n",
            "           482,   482,   482,   482,   482],\n",
            "        [   72,  2846,  7060,    13,  1268,   922,  6261,    30,   482,   482,\n",
            "           482,   482,   482,   482,   482,   482,   482,   482,   482,   482,\n",
            "           482,   482,   482,   482,   482],\n",
            "        [   72,  2846,  5128,  1695,    13,  9523,   369, 10371,    13,   482,\n",
            "           482,   482,   482,   482,   482,   482,   482,   482,   482,   482,\n",
            "           482,   482,   482,   482,   482],\n",
            "        [ 2201,  3575,    13,   779,  1268,   617,   499,  1027,    30,   482,\n",
            "           482,   482,   482,   482,   482,   482,   482,   482,   482,   482,\n",
            "           482,   482,   482,   482,   482],\n",
            "        [   72,  3077,  1027,  2294,    13,  1148,   922,   499,    30,   482,\n",
            "           482,   482,   482,   482,   482,   482,   482,   482,   482,   482,\n",
            "           482,   482,   482,   482,   482],\n",
            "        [   72,  3077,  1027,  1695,    13,   602,  2846,   304,  2978,  1314,\n",
            "          1457,    13,   482,   482,   482,   482,   482,   482,   482,   482,\n",
            "           482,   482,   482,   482,   482],\n",
            "        [12840,  2978,   656,   499,   733,   311,    30,   482,   482,   482,\n",
            "           482,   482,   482,   482,   482,   482,   482,   482,   482,   482,\n",
            "           482,   482,   482,   482,   482]]) the target is: tensor([ 72, 733, 311, 281, 641,  13, 482, 482, 482, 482, 482, 482, 482, 482,\n",
            "        482, 482, 482, 482, 482, 482, 482, 482, 482, 482, 482])\n",
            "when input is tensor([[ 6151,    11,  1268,   527,   499,  3815,    30,   482,   482,   482,\n",
            "           482,   482,   482,   482,   482,   482,   482,   482,   482,   482,\n",
            "           482,   482,   482,   482,   482],\n",
            "        [   72,  2846,  7060,    13,  1268,   922,  6261,    30,   482,   482,\n",
            "           482,   482,   482,   482,   482,   482,   482,   482,   482,   482,\n",
            "           482,   482,   482,   482,   482],\n",
            "        [   72,  2846,  5128,  1695,    13,  9523,   369, 10371,    13,   482,\n",
            "           482,   482,   482,   482,   482,   482,   482,   482,   482,   482,\n",
            "           482,   482,   482,   482,   482],\n",
            "        [ 2201,  3575,    13,   779,  1268,   617,   499,  1027,    30,   482,\n",
            "           482,   482,   482,   482,   482,   482,   482,   482,   482,   482,\n",
            "           482,   482,   482,   482,   482],\n",
            "        [   72,  3077,  1027,  2294,    13,  1148,   922,   499,    30,   482,\n",
            "           482,   482,   482,   482,   482,   482,   482,   482,   482,   482,\n",
            "           482,   482,   482,   482,   482],\n",
            "        [   72,  3077,  1027,  1695,    13,   602,  2846,   304,  2978,  1314,\n",
            "          1457,    13,   482,   482,   482,   482,   482,   482,   482,   482,\n",
            "           482,   482,   482,   482,   482],\n",
            "        [12840,  2978,   656,   499,   733,   311,    30,   482,   482,   482,\n",
            "           482,   482,   482,   482,   482,   482,   482,   482,   482,   482,\n",
            "           482,   482,   482,   482,   482],\n",
            "        [   72,   733,   311,   281,   641,    13,   482,   482,   482,   482,\n",
            "           482,   482,   482,   482,   482,   482,   482,   482,   482,   482,\n",
            "           482,   482,   482,   482,   482]]) the target is: tensor([3055,  499, 1093,  433, 1070,   30,  482,  482,  482,  482,  482,  482,\n",
            "         482,  482,  482,  482,  482,  482,  482,  482,  482,  482,  482,  482,\n",
            "         482])\n"
          ]
        }
      ]
    },
    {
      "cell_type": "code",
      "source": [
        "batch_size = 4\n",
        "block_size = 8\n",
        "\n"
      ],
      "metadata": {
        "id": "JJhI8Zljuozt"
      },
      "execution_count": null,
      "outputs": []
    }
  ]
}