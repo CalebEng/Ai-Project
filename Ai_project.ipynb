{
  "nbformat": 4,
  "nbformat_minor": 0,
  "metadata": {
    "colab": {
      "provenance": [],
      "gpuType": "T4",
      "authorship_tag": "ABX9TyPttmrys3PSPs6Aucq1Je49",
      "include_colab_link": true
    },
    "kernelspec": {
      "name": "python3",
      "display_name": "Python 3"
    },
    "language_info": {
      "name": "python"
    },
    "accelerator": "GPU"
  },
  "cells": [
    {
      "cell_type": "markdown",
      "metadata": {
        "id": "view-in-github",
        "colab_type": "text"
      },
      "source": [
        "<a href=\"https://colab.research.google.com/github/CalebEng/Ai-Project/blob/master/Ai_project.ipynb\" target=\"_parent\"><img src=\"https://colab.research.google.com/assets/colab-badge.svg\" alt=\"Open In Colab\"/></a>"
      ]
    },
    {
      "cell_type": "code",
      "execution_count": 2,
      "metadata": {
        "id": "4egB2tLlsSDE"
      },
      "outputs": [],
      "source": [
        "#imports\n",
        "import torch \n",
        "from torch import nn\n",
        "#!pip install --upgrade tiktoken\n",
        "import tiktoken "
      ]
    },
    {
      "cell_type": "code",
      "source": [],
      "metadata": {
        "id": "GH7WMj6zsxIF"
      },
      "execution_count": null,
      "outputs": []
    }
  ]
}